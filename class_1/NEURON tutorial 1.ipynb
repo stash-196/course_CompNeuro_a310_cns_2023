{
 "cells": [
  {
   "cell_type": "markdown",
   "metadata": {
    "slideshow": {
     "slide_type": "slide"
    }
   },
   "source": [
    "# NEURON tutorial - part 1\n",
    "\n",
    "\n",
    "A typical procedure of model construction and simulation in NEURON goes like this:\n",
    "\n",
    "1. Prepare the morphologies of neurons,\n",
    "2. Add intrinsic mechanisms in neurons,\n",
    "3. Set up external stimuli and networks wirings,\n",
    "4. Set up data recorders,\n",
    "5. Run the simulation,\n",
    "6. Collect data from recorders and save them.\n",
    "\n",
    "We begin with the step 1, which requires understanding about sections and segments."
   ]
  },
  {
   "cell_type": "markdown",
   "metadata": {
    "slideshow": {
     "slide_type": "slide"
    }
   },
   "source": [
    "## 1. Sections and segments\n",
    "\n",
    "NEURON is a simulator that is designed to simulate neurons with realistic extended morphologies. How can NEURON do this? Basically in NEURON, each cell is represented as a collection of cylinders, called **sections**."
   ]
  },
  {
   "cell_type": "markdown",
   "metadata": {},
   "source": [
    "<center><img src=./images/from_book_1.png width=400></center>\n",
    "\n",
    "Here we show a part of a reconstructed neuron with a cell body (soma), axon, and some dendrites (Top) and how they are represented by different sections (Bottom)."
   ]
  },
  {
   "cell_type": "markdown",
   "metadata": {
    "slideshow": {
     "slide_type": "subslide"
    }
   },
   "source": [
    "**<center>DEMO - [NeuroMorpho.org](http://neuromorpho.org/neuron_info.jsp?neuron_name=3m_control_DG_9_3)</center>**"
   ]
  },
  {
   "cell_type": "markdown",
   "metadata": {
    "slideshow": {
     "slide_type": "slide"
    }
   },
   "source": [
    "Then, we simulate the electrical activity of a whole neuron by computing the electrical dynamics of coupled sections.\n",
    "\n",
    "<center><img src=./images/from_slides_1.png width=400></center>"
   ]
  },
  {
   "cell_type": "markdown",
   "metadata": {
    "slideshow": {
     "slide_type": "slide"
    }
   },
   "source": [
    "The problem is that neurons oftentimes have sections with quite different sizes. They can be long and thick or short and tiny. To deal with this problem, each section is divided into **segments**, and so we can divide big sections with many segments while we can keep small ones with less or no segmenting."
   ]
  },
  {
   "cell_type": "markdown",
   "metadata": {
    "slideshow": {
     "slide_type": "slide"
    }
   },
   "source": [
    "This scheme gives us four morphological parameters for each section,\n",
    "\n",
    "1. `L`: length of a section,\n",
    "2. `diam`: diameter,\n",
    "3. `nseg`: a number of segments,\n",
    "4. `x`: a *relative* coordinate along a section. `x=0` and `x=1` represent one and the other end, and `x=0.5` represents a middle point.\n",
    "\n",
    "<img src=./images/cylinder.png width=500>\n"
   ]
  },
  {
   "cell_type": "markdown",
   "metadata": {
    "slideshow": {
     "slide_type": "subslide"
    }
   },
   "source": [
    "Then, every dynamical variable such as membrane potential is computed segment by segment. For example, if our section has `nseg=3`, membrane potential at three different points, v(x=0.0), v(x=0.5), and v(x=1.0), can be different from each other. However, if `nseg=1`, v(x) will be exactly the same no matter which point we measure --- the section is isopotential. Having this in mind, let's open NEURON and create some sections."
   ]
  },
  {
   "cell_type": "code",
   "execution_count": 2,
   "metadata": {
    "slideshow": {
     "slide_type": "slide"
    }
   },
   "outputs": [],
   "source": [
    "from neuron import h, gui"
   ]
  },
  {
   "cell_type": "code",
   "execution_count": 3,
   "metadata": {
    "slideshow": {
     "slide_type": "-"
    }
   },
   "outputs": [],
   "source": [
    "axon = h.Section(name=\"axon\")"
   ]
  },
  {
   "cell_type": "markdown",
   "metadata": {
    "slideshow": {
     "slide_type": "slide"
    }
   },
   "source": [
    "Now let's inspect what's in `axon`."
   ]
  },
  {
   "cell_type": "code",
   "execution_count": 4,
   "metadata": {},
   "outputs": [
    {
     "name": "stdout",
     "output_type": "stream",
     "text": [
      "axon { nseg=1  L=100  Ra=35.4\n",
      "\t/*location 0 attached to cell 0*/\n",
      "\t/* First segment only */\n",
      "\tinsert morphology { diam=500}\n",
      "\tinsert capacitance { cm=1}\n",
      "}\n"
     ]
    },
    {
     "data": {
      "text/plain": [
       "1.0"
      ]
     },
     "execution_count": 4,
     "metadata": {},
     "output_type": "execute_result"
    }
   ],
   "source": [
    "h.psection()\n",
    "# axon.psection()"
   ]
  },
  {
   "cell_type": "markdown",
   "metadata": {
    "slideshow": {
     "slide_type": "slide"
    }
   },
   "source": [
    "We can see that `axon` is created with default values for the shape parameters and also others such as `cm` and `Ra`, which represent *capacitance* and *axial resistance* of this section, respectively. `L=100` means that the length is 100 μm, and `diam=500` means that the diameter is 500 μm."
   ]
  },
  {
   "cell_type": "markdown",
   "metadata": {},
   "source": [
    "We can change into a thin and long axon as"
   ]
  },
  {
   "cell_type": "code",
   "execution_count": 5,
   "metadata": {},
   "outputs": [
    {
     "name": "stdout",
     "output_type": "stream",
     "text": [
      "axon { nseg=1  L=500  Ra=35.4\n",
      "\t/*location 0 attached to cell 0*/\n",
      "\t/* First segment only */\n",
      "\tinsert morphology { diam=1}\n",
      "\tinsert capacitance { cm=1}\n",
      "}\n"
     ]
    },
    {
     "data": {
      "text/plain": [
       "1.0"
      ]
     },
     "execution_count": 5,
     "metadata": {},
     "output_type": "execute_result"
    }
   ],
   "source": [
    "axon.L = 500 # 500 um long\n",
    "axon.diam = 1 # 1 um diameter \n",
    "\n",
    "h.psection()"
   ]
  },
  {
   "cell_type": "markdown",
   "metadata": {
    "slideshow": {
     "slide_type": "slide"
    }
   },
   "source": [
    "## Default units used in NEURON\n",
    "\n",
    "|Quantity | Unit|\n",
    "|:--------|:-----|\n",
    "|Time | ms |\n",
    "|Voltage | mV |\n",
    "|Current density (distributed) | mA/cm2 |\n",
    "|Current (point process) | nA |\n",
    "|Concentration | mM |\n",
    "|Specific capacitance | uF/cm2 |\n",
    "|Length | um |\n",
    "|Conductance density (distributed) | S/cm2 |\n",
    "|Conductance (point process) | uS |\n",
    "|Axial resistance | ohm cm |\n",
    "|Resistance | Mohm|\n"
   ]
  },
  {
   "cell_type": "markdown",
   "metadata": {
    "slideshow": {
     "slide_type": "slide"
    }
   },
   "source": [
    "## 2. Membrane and intracellular mechanisms\n",
    "\n",
    "Once the morphologies of neurons are prepared, cells are ready for embedding dynamical mechanisms. During the course, you will learn about ion channels and and other membrane/intracellular mechanisms, but here the first mechanism will be `pas`, which is a simple membrane electric resistance describing leaking of the electric current through the cellular membrane, according to the Ohm's law,\n",
    "\n",
    "$$\n",
    "i = g (v - E),\n",
    "$$\n",
    "where $i$ is a current density per area leaking out from the intracellular to extracellular domain. $v$ is the membrane potential, $g$ is the conductance per area, and $E$ is a parameter called the reversal potential, typically around -70 mV."
   ]
  },
  {
   "cell_type": "markdown",
   "metadata": {
    "slideshow": {
     "slide_type": "slide"
    }
   },
   "source": [
    "This mechanism can be inserted into the section `axon` as:"
   ]
  },
  {
   "cell_type": "code",
   "execution_count": 6,
   "metadata": {},
   "outputs": [
    {
     "data": {
      "text/plain": [
       "axon"
      ]
     },
     "execution_count": 6,
     "metadata": {},
     "output_type": "execute_result"
    }
   ],
   "source": [
    "axon.insert(\"pas\")"
   ]
  },
  {
   "cell_type": "markdown",
   "metadata": {
    "slideshow": {
     "slide_type": "slide"
    }
   },
   "source": [
    "Now we inspect this again,"
   ]
  },
  {
   "cell_type": "code",
   "execution_count": 7,
   "metadata": {},
   "outputs": [
    {
     "name": "stdout",
     "output_type": "stream",
     "text": [
      "axon { nseg=1  L=500  Ra=35.4\n",
      "\t/*location 0 attached to cell 0*/\n",
      "\t/* First segment only */\n",
      "\tinsert morphology { diam=1}\n",
      "\tinsert capacitance { cm=1}\n",
      "\tinsert pas { g_pas=0.001 e_pas=-70}\n",
      "}\n"
     ]
    },
    {
     "data": {
      "text/plain": [
       "1.0"
      ]
     },
     "execution_count": 7,
     "metadata": {},
     "output_type": "execute_result"
    }
   ],
   "source": [
    "h.psection()"
   ]
  },
  {
   "cell_type": "markdown",
   "metadata": {
    "slideshow": {
     "slide_type": "slide"
    }
   },
   "source": [
    "## 3. External stimuli and network wirings\n",
    "\n",
    "Neurons should be driven by external stimuli and/or other cells via network connections. In NEURON, these are implemented by embedding objects called *point processes* in each cell. Here, we add a simple external stimuli, which is called the [*current clamp*](https://www.neuron.yale.edu/neuron/static/py_doc/modelspec/programmatic/mechanisms/mech.html?highlight=iclamp#IClamp), which simulates an electrode that injects a certain amount of electric current for a given time period."
   ]
  },
  {
   "cell_type": "markdown",
   "metadata": {
    "slideshow": {
     "slide_type": "slide"
    }
   },
   "source": [
    "We will add this curren clamp electrode at the x$\\approx$0 location of our `axon` (one end). (x=0 is the very end and can cause an undesirable behavior)\n",
    "\n",
    "**Note: when you change `nseg`, you have to move the electrode again!!!** "
   ]
  },
  {
   "cell_type": "code",
   "execution_count": 8,
   "metadata": {},
   "outputs": [],
   "source": [
    "ic = h.IClamp(axon(0))"
   ]
  },
  {
   "cell_type": "markdown",
   "metadata": {
    "slideshow": {
     "slide_type": "slide"
    }
   },
   "source": [
    "`IClamp` has three parameters (see [documentation](https://www.neuron.yale.edu/neuron/static/py_doc/modelspec/programmatic/mechanisms/mech.html?highlight=iclamp#IClamp)), delay, dur(ation), amp(litude). We set the parameters as"
   ]
  },
  {
   "cell_type": "code",
   "execution_count": 9,
   "metadata": {},
   "outputs": [],
   "source": [
    "ic.delay = 0 # 0 ms delay\n",
    "ic.dur = 1e2 # 100 ms duration\n",
    "ic.amp = 0.200 # 200 pA"
   ]
  },
  {
   "cell_type": "code",
   "execution_count": 10,
   "metadata": {
    "slideshow": {
     "slide_type": "subslide"
    }
   },
   "outputs": [
    {
     "name": "stdout",
     "output_type": "stream",
     "text": [
      "axon { nseg=1  L=500  Ra=35.4\n",
      "\t/*location 0 attached to cell 0*/\n",
      "\t/* First segment only */\n",
      "\tinsert morphology { diam=1}\n",
      "\tinsert capacitance { cm=1}\n",
      "\tinsert pas { g_pas=0.001 e_pas=-70}\n",
      "}\n"
     ]
    },
    {
     "data": {
      "text/plain": [
       "1.0"
      ]
     },
     "execution_count": 10,
     "metadata": {},
     "output_type": "execute_result"
    }
   ],
   "source": [
    "h.psection()"
   ]
  },
  {
   "cell_type": "markdown",
   "metadata": {
    "slideshow": {
     "slide_type": "slide"
    }
   },
   "source": [
    "## 4. Data recorders\n",
    "\n",
    "We will record the membrane potential of this axon at three different locations, x$\\approx$0, x=0.5, and x=1. For this, we will need to prepare the data placeholders called [vectors](https://www.neuron.yale.edu/neuron/static/py_doc/programming/math/vector.html) and specify how which variable at where is recorded."
   ]
  },
  {
   "cell_type": "markdown",
   "metadata": {
    "slideshow": {
     "slide_type": "slide"
    }
   },
   "source": [
    "So let's create a list of vectors first,"
   ]
  },
  {
   "cell_type": "code",
   "execution_count": 11,
   "metadata": {},
   "outputs": [
    {
     "data": {
      "text/plain": [
       "[Vector[163], Vector[164], Vector[165]]"
      ]
     },
     "execution_count": 11,
     "metadata": {},
     "output_type": "execute_result"
    }
   ],
   "source": [
    "reclist = []\n",
    "for i in range(3):\n",
    "    reclist.append(h.Vector())\n",
    "reclist"
   ]
  },
  {
   "cell_type": "markdown",
   "metadata": {
    "slideshow": {
     "slide_type": "slide"
    }
   },
   "source": [
    "Now we will record the membrane potential `v` at x=0.001, 0.5, and 1, every 0.1 ms (see [documentation](https://www.neuron.yale.edu/neuron/static/py_doc/programming/math/vector.html?highlight=vector#Vector.record) for more detail)"
   ]
  },
  {
   "cell_type": "code",
   "execution_count": 12,
   "metadata": {},
   "outputs": [
    {
     "data": {
      "text/plain": [
       "Vector[165]"
      ]
     },
     "execution_count": 12,
     "metadata": {},
     "output_type": "execute_result"
    }
   ],
   "source": [
    "dt = 0.1\n",
    "reclist[0].record(axon(1e-3)._ref_v, dt)\n",
    "reclist[1].record(axon(0.5)._ref_v, dt)\n",
    "reclist[2].record(axon(1)._ref_v, dt)"
   ]
  },
  {
   "cell_type": "markdown",
   "metadata": {
    "slideshow": {
     "slide_type": "slide"
    }
   },
   "source": [
    "## 5. Running simulation\n",
    "\n",
    "In most cases, we can simply call `h.init()` and `h.run()` after setting `h.tstop`, which sets how long the simulation will run."
   ]
  },
  {
   "cell_type": "code",
   "execution_count": 17,
   "metadata": {},
   "outputs": [
    {
     "data": {
      "text/plain": [
       "0.0"
      ]
     },
     "execution_count": 17,
     "metadata": {},
     "output_type": "execute_result"
    }
   ],
   "source": [
    "from neuron import h, gui\n",
    "\n",
    "# h.tstop = 100 # 100 ms duraion\n",
    "h.init() #initialize the simulation\n",
    "# h.run() #run!\n",
    "h.continuerun(100)"
   ]
  },
  {
   "cell_type": "markdown",
   "metadata": {
    "slideshow": {
     "slide_type": "slide"
    }
   },
   "source": [
    "## 6. Collecting, inspecting, and saving the data\n",
    "\n",
    "Now we check if the data are collected well..."
   ]
  },
  {
   "cell_type": "code",
   "execution_count": 18,
   "metadata": {},
   "outputs": [
    {
     "name": "stdout",
     "output_type": "stream",
     "text": [
      "1001\n"
     ]
    }
   ],
   "source": [
    "print(reclist[0].size())"
   ]
  },
  {
   "cell_type": "markdown",
   "metadata": {
    "slideshow": {
     "slide_type": "slide"
    }
   },
   "source": [
    "Since dt=0.1, the recorded data is a vector, [v(t=0), v(t=0.1), v(t=0.2),...,v(t=100)], whose length should be 1001. We can plot the data now."
   ]
  },
  {
   "cell_type": "code",
   "execution_count": 19,
   "metadata": {
    "slideshow": {
     "slide_type": "subslide"
    }
   },
   "outputs": [
    {
     "data": {
      "text/plain": [
       "[<matplotlib.lines.Line2D at 0x7fa6f19983d0>,\n",
       " <matplotlib.lines.Line2D at 0x7fa6f1998430>,\n",
       " <matplotlib.lines.Line2D at 0x7fa6f1998460>]"
      ]
     },
     "execution_count": 19,
     "metadata": {},
     "output_type": "execute_result"
    },
    {
     "data": {
      "image/png": "[encoded data removed]",
      "text/plain": [
       "<Figure size 640x480 with 1 Axes>"
      ]
     },
     "metadata": {},
     "output_type": "display_data"
    }
   ],
   "source": [
    "import numpy as np\n",
    "import matplotlib.pyplot as plt\n",
    "\n",
    "t = np.arange(1001)*dt\n",
    "fig, ax = plt.subplots()\n",
    "\n",
    "ax.plot(t, reclist[0],\n",
    "        t, reclist[1],\n",
    "        t, reclist[2])"
   ]
  },
  {
   "cell_type": "markdown",
   "metadata": {
    "slideshow": {
     "slide_type": "slide"
    }
   },
   "source": [
    "Here we see three curves are exactly the same since currently nseg = 1 and the section is isopotential. This is obviously not good! Let's change this, and run the simulation again,.."
   ]
  },
  {
   "cell_type": "code",
   "execution_count": 22,
   "metadata": {
    "slideshow": {
     "slide_type": "-"
    }
   },
   "outputs": [
    {
     "name": "stdout",
     "output_type": "stream",
     "text": [
      "axon { nseg=100  L=500  Ra=35.4\n",
      "\t/*location 0 attached to cell 0*/\n",
      "\t/* First segment only */\n",
      "\tinsert pas { g_pas=0.001 e_pas=-70}\n",
      "\tinsert capacitance { cm=1}\n",
      "\tinsert morphology { diam=1}\n",
      "}\n"
     ]
    },
    {
     "data": {
      "text/plain": [
       "1.0"
      ]
     },
     "execution_count": 22,
     "metadata": {},
     "output_type": "execute_result"
    }
   ],
   "source": [
    "axon.nseg = 100 # split the section by dx = 500/100 = 5 um.\n",
    "\n",
    "h.psection(axon)"
   ]
  },
  {
   "cell_type": "markdown",
   "metadata": {
    "slideshow": {
     "slide_type": "slide"
    }
   },
   "source": [
    "Here we check the electrode location:"
   ]
  },
  {
   "cell_type": "code",
   "execution_count": 23,
   "metadata": {},
   "outputs": [
    {
     "data": {
      "text/plain": [
       "0.0"
      ]
     },
     "execution_count": 23,
     "metadata": {},
     "output_type": "execute_result"
    }
   ],
   "source": [
    "ic.get_loc()"
   ]
  },
  {
   "cell_type": "markdown",
   "metadata": {
    "slideshow": {
     "slide_type": "slide"
    }
   },
   "source": [
    "**Now it is in the middle!** Let's move this to one end that we wanted it to be originally:\n",
    "\n",
    "NOT ANYMORE"
   ]
  },
  {
   "cell_type": "code",
   "execution_count": 24,
   "metadata": {},
   "outputs": [
    {
     "data": {
      "text/plain": [
       "0.0"
      ]
     },
     "execution_count": 24,
     "metadata": {},
     "output_type": "execute_result"
    }
   ],
   "source": [
    "ic.loc(0)"
   ]
  },
  {
   "cell_type": "markdown",
   "metadata": {},
   "source": [
    "Now the electrode has relocated."
   ]
  },
  {
   "cell_type": "code",
   "execution_count": 25,
   "metadata": {
    "slideshow": {
     "slide_type": "slide"
    }
   },
   "outputs": [],
   "source": [
    "# Here we define a function for setting recordings and running\n",
    "def run_and_record():\n",
    "    reclist = []\n",
    "    for i in range(3):\n",
    "        reclist.append(h.Vector())\n",
    "\n",
    "    dt = 0.1\n",
    "    reclist[0].record(axon(1e-3)._ref_v, dt)\n",
    "    reclist[1].record(axon(0.5)._ref_v, dt)\n",
    "    reclist[2].record(axon(1)._ref_v, dt)\n",
    "\n",
    "    h.init()\n",
    "    h.run()\n",
    "    \n",
    "    return(reclist)\n",
    "\n",
    "reclist = run_and_record()"
   ]
  },
  {
   "cell_type": "code",
   "execution_count": 26,
   "metadata": {
    "slideshow": {
     "slide_type": "slide"
    }
   },
   "outputs": [
    {
     "data": {
      "image/png": "[encoded data removed]",
      "text/plain": [
       "<Figure size 640x480 with 1 Axes>"
      ]
     },
     "metadata": {},
     "output_type": "display_data"
    }
   ],
   "source": [
    "def plot_recordings(reclist):\n",
    "    t = np.arange(1001)*dt\n",
    "    fig, ax = plt.subplots()\n",
    "    ax.plot(t, reclist[0], label=\"x=0.001\")\n",
    "    ax.plot(t, reclist[1], label=\"x=0.5\")\n",
    "    ax.plot(t, reclist[2], label=\"x=1\")\n",
    "    ax.legend()\n",
    "    return fig\n",
    "\n",
    "_ = plot_recordings(reclist)"
   ]
  },
  {
   "cell_type": "markdown",
   "metadata": {
    "slideshow": {
     "slide_type": "slide"
    }
   },
   "source": [
    "Now, let's change the intrinsic property of this axon by inserting a set of active ion channels called \"Hodgkin-Huxley mechanisms\", `hh`, and see what happens..."
   ]
  },
  {
   "cell_type": "code",
   "execution_count": 27,
   "metadata": {},
   "outputs": [],
   "source": [
    "axon.insert('hh')\n",
    "\n",
    "reclist = run_and_record()"
   ]
  },
  {
   "cell_type": "code",
   "execution_count": 28,
   "metadata": {
    "slideshow": {
     "slide_type": "slide"
    }
   },
   "outputs": [
    {
     "data": {
      "image/png": "[encoded data removed]",
      "text/plain": [
       "<Figure size 640x480 with 1 Axes>"
      ]
     },
     "metadata": {},
     "output_type": "display_data"
    }
   ],
   "source": [
    "_ = plot_recordings(reclist)"
   ]
  },
  {
   "cell_type": "markdown",
   "metadata": {
    "slideshow": {
     "slide_type": "slide"
    }
   },
   "source": [
    "Now, we can also change how the system's behavior changes with parameter change. We added two mechanisms `pas` and `hh`, and let's \"turn off\" `pas` by setting its conductance to zero."
   ]
  },
  {
   "cell_type": "code",
   "execution_count": 30,
   "metadata": {},
   "outputs": [
    {
     "name": "stdout",
     "output_type": "stream",
     "text": [
      "axon { nseg=100  L=500  Ra=35.4\n",
      "\t/*location 0 attached to cell 0*/\n",
      "\t/* First segment only */\n",
      "\tinsert pas { g_pas=0 e_pas=-70}\n",
      "\tinsert capacitance { cm=1}\n",
      "\tinsert morphology { diam=1}\n",
      "\tinsert hh { gnabar_hh=0.12 gkbar_hh=0.036 gl_hh=0.0003 el_hh=-54.3}\n",
      "\tinsert na_ion { ena=50}\n",
      "\tinsert k_ion { ek=-77}\n",
      "}\n"
     ]
    },
    {
     "data": {
      "text/plain": [
       "1.0"
      ]
     },
     "execution_count": 30,
     "metadata": {},
     "output_type": "execute_result"
    }
   ],
   "source": [
    "axon.g_pas = 0\n",
    "h.psection()"
   ]
  },
  {
   "cell_type": "code",
   "execution_count": 31,
   "metadata": {
    "slideshow": {
     "slide_type": "slide"
    }
   },
   "outputs": [
    {
     "data": {
      "image/png": "[encoded data removed]",
      "text/plain": [
       "<Figure size 640x480 with 1 Axes>"
      ]
     },
     "metadata": {},
     "output_type": "display_data"
    }
   ],
   "source": [
    "reclist = run_and_record()\n",
    "_ = plot_recordings(reclist)"
   ]
  },
  {
   "cell_type": "markdown",
   "metadata": {
    "slideshow": {
     "slide_type": "slide"
    }
   },
   "source": [
    "We save the data by using `pandas` package. "
   ]
  },
  {
   "cell_type": "code",
   "execution_count": 32,
   "metadata": {},
   "outputs": [
    {
     "data": {
      "text/html": [
       "<div>\n",
       "<style scoped>\n",
       "    .dataframe tbody tr th:only-of-type {\n",
       "        vertical-align: middle;\n",
       "    }\n",
       "\n",
       "    .dataframe tbody tr th {\n",
       "        vertical-align: top;\n",
       "    }\n",
       "\n",
       "    .dataframe thead th {\n",
       "        text-align: right;\n",
       "    }\n",
       "</style>\n",
       "<table border=\"1\" class=\"dataframe\">\n",
       "  <thead>\n",
       "    <tr style=\"text-align: right;\">\n",
       "      <th></th>\n",
       "      <th>t</th>\n",
       "      <th>x=0.001</th>\n",
       "      <th>x=0.5</th>\n",
       "      <th>x=1</th>\n",
       "    </tr>\n",
       "  </thead>\n",
       "  <tbody>\n",
       "    <tr>\n",
       "      <th>0</th>\n",
       "      <td>0.0</td>\n",
       "      <td>-65.000000</td>\n",
       "      <td>-65.000000</td>\n",
       "      <td>-65.000000</td>\n",
       "    </tr>\n",
       "    <tr>\n",
       "      <th>1</th>\n",
       "      <td>0.1</td>\n",
       "      <td>-57.125396</td>\n",
       "      <td>-64.800353</td>\n",
       "      <td>-64.993143</td>\n",
       "    </tr>\n",
       "    <tr>\n",
       "      <th>2</th>\n",
       "      <td>0.2</td>\n",
       "      <td>-53.766373</td>\n",
       "      <td>-64.133301</td>\n",
       "      <td>-64.941181</td>\n",
       "    </tr>\n",
       "    <tr>\n",
       "      <th>3</th>\n",
       "      <td>0.3</td>\n",
       "      <td>-51.223631</td>\n",
       "      <td>-63.217883</td>\n",
       "      <td>-64.775640</td>\n",
       "    </tr>\n",
       "    <tr>\n",
       "      <th>4</th>\n",
       "      <td>0.4</td>\n",
       "      <td>-48.959491</td>\n",
       "      <td>-62.206378</td>\n",
       "      <td>-64.466747</td>\n",
       "    </tr>\n",
       "    <tr>\n",
       "      <th>...</th>\n",
       "      <td>...</td>\n",
       "      <td>...</td>\n",
       "      <td>...</td>\n",
       "      <td>...</td>\n",
       "    </tr>\n",
       "    <tr>\n",
       "      <th>996</th>\n",
       "      <td>99.6</td>\n",
       "      <td>-46.064005</td>\n",
       "      <td>-60.214744</td>\n",
       "      <td>-63.620435</td>\n",
       "    </tr>\n",
       "    <tr>\n",
       "      <th>997</th>\n",
       "      <td>99.7</td>\n",
       "      <td>-45.432194</td>\n",
       "      <td>-59.858094</td>\n",
       "      <td>-63.363791</td>\n",
       "    </tr>\n",
       "    <tr>\n",
       "      <th>998</th>\n",
       "      <td>99.8</td>\n",
       "      <td>-44.719573</td>\n",
       "      <td>-59.469776</td>\n",
       "      <td>-63.093420</td>\n",
       "    </tr>\n",
       "    <tr>\n",
       "      <th>999</th>\n",
       "      <td>99.9</td>\n",
       "      <td>-43.904336</td>\n",
       "      <td>-59.041467</td>\n",
       "      <td>-62.805947</td>\n",
       "    </tr>\n",
       "    <tr>\n",
       "      <th>1000</th>\n",
       "      <td>100.0</td>\n",
       "      <td>-42.956912</td>\n",
       "      <td>-58.561957</td>\n",
       "      <td>-62.496966</td>\n",
       "    </tr>\n",
       "  </tbody>\n",
       "</table>\n",
       "<p>1001 rows × 4 columns</p>\n",
       "</div>"
      ],
      "text/plain": [
       "          t    x=0.001      x=0.5        x=1\n",
       "0       0.0 -65.000000 -65.000000 -65.000000\n",
       "1       0.1 -57.125396 -64.800353 -64.993143\n",
       "2       0.2 -53.766373 -64.133301 -64.941181\n",
       "3       0.3 -51.223631 -63.217883 -64.775640\n",
       "4       0.4 -48.959491 -62.206378 -64.466747\n",
       "...     ...        ...        ...        ...\n",
       "996    99.6 -46.064005 -60.214744 -63.620435\n",
       "997    99.7 -45.432194 -59.858094 -63.363791\n",
       "998    99.8 -44.719573 -59.469776 -63.093420\n",
       "999    99.9 -43.904336 -59.041467 -62.805947\n",
       "1000  100.0 -42.956912 -58.561957 -62.496966\n",
       "\n",
       "[1001 rows x 4 columns]"
      ]
     },
     "execution_count": 32,
     "metadata": {},
     "output_type": "execute_result"
    }
   ],
   "source": [
    "import pandas as pd\n",
    "df = pd.DataFrame({'t':np.arange(1001)*dt,\n",
    "                   'x=0.001': reclist[0],\n",
    "                   'x=0.5': reclist[1],\n",
    "                   'x=1': reclist[2]})\n",
    "df"
   ]
  },
  {
   "cell_type": "markdown",
   "metadata": {
    "slideshow": {
     "slide_type": "slide"
    }
   },
   "source": [
    "`pandas` supports various file formats. Here we use CSV."
   ]
  },
  {
   "cell_type": "code",
   "execution_count": 33,
   "metadata": {},
   "outputs": [],
   "source": [
    "df.to_csv('axon_data.csv', index=False)"
   ]
  }
 ],
 "metadata": {
  "celltoolbar": "Slideshow",
  "kernelspec": {
   "display_name": "Python 3 (ipykernel)",
   "language": "python",
   "name": "python3"
  },
  "language_info": {
   "codemirror_mode": {
    "name": "ipython",
    "version": 3
   },
   "file_extension": ".py",
   "mimetype": "text/x-python",
   "name": "python",
   "nbconvert_exporter": "python",
   "pygments_lexer": "ipython3",
   "version": "3.10.9"
  }
 },
 "nbformat": 4,
 "nbformat_minor": 4
}
