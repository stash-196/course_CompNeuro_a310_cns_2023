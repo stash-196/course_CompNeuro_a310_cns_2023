{
 "cells": [
  {
   "cell_type": "markdown",
   "metadata": {
    "slideshow": {
     "slide_type": "slide"
    }
   },
   "source": [
    "## Working with Shapes\n",
    "\n",
    "Here we explore how to visualize information using the cell morphology"
   ]
  },
  {
   "cell_type": "code",
   "execution_count": null,
   "metadata": {
    "slideshow": {
     "slide_type": "-"
    }
   },
   "outputs": [],
   "source": [
    "import numpy as np\n",
    "import matplotlib.pyplot as plt\n",
    "from neuron import h, gui\n",
    "import libcell\n",
    "\n",
    "cell = libcell.L23()"
   ]
  },
  {
   "cell_type": "code",
   "execution_count": null,
   "metadata": {
    "slideshow": {
     "slide_type": "slide"
    }
   },
   "outputs": [],
   "source": [
    "ps = h.Shape()\n",
    "\n",
    "# ps = h.Shape(0)\n",
    "# ps.view(-191.578, -172.628, 369.697, 431.069, 106, 253, 483.84, 563.2)"
   ]
  },
  {
   "cell_type": "code",
   "execution_count": null,
   "metadata": {
    "slideshow": {
     "slide_type": "-"
    }
   },
   "outputs": [],
   "source": [
    "ps.show(0)\n",
    "# ps.show(1)"
   ]
  },
  {
   "cell_type": "code",
   "execution_count": null,
   "metadata": {
    "slideshow": {
     "slide_type": "slide"
    }
   },
   "outputs": [],
   "source": [
    "ic = h.IClamp(cell.soma(0.5))"
   ]
  },
  {
   "cell_type": "code",
   "execution_count": null,
   "metadata": {},
   "outputs": [],
   "source": [
    "ps.point_mark(ic, 3)"
   ]
  },
  {
   "cell_type": "code",
   "execution_count": null,
   "metadata": {},
   "outputs": [],
   "source": [
    "ic.loc(cell.dends[30](1))\n",
    "ic.get_segment()"
   ]
  },
  {
   "cell_type": "code",
   "execution_count": null,
   "metadata": {},
   "outputs": [],
   "source": [
    "ps.point_mark_remove()"
   ]
  },
  {
   "cell_type": "code",
   "execution_count": null,
   "metadata": {
    "slideshow": {
     "slide_type": "slide"
    }
   },
   "outputs": [],
   "source": [
    "ps = h.PlotShape(0)\n",
    "ps.view(-191.578, -172.628, 369.697, 431.069, 106, 253, 483.84, 563.2)"
   ]
  },
  {
   "cell_type": "code",
   "execution_count": null,
   "metadata": {},
   "outputs": [],
   "source": [
    "ps.variable(\"v\")\n",
    "ps.exec_menu(\"Shape Plot\")"
   ]
  },
  {
   "cell_type": "code",
   "execution_count": null,
   "metadata": {},
   "outputs": [],
   "source": [
    "ps.scale(-70, 0)"
   ]
  },
  {
   "cell_type": "code",
   "execution_count": null,
   "metadata": {
    "slideshow": {
     "slide_type": "slide"
    }
   },
   "outputs": [],
   "source": [
    "ic.loc(cell.soma(0.5))\n",
    "\n",
    "ic.delay = 0\n",
    "ic.amp = 0.1\n",
    "ic.dur = 100\n",
    "\n",
    "h.v_init = -75\n",
    "h.tstop = 100\n",
    "\n",
    "h.init()\n",
    "h.run()\n",
    "ps.flush()"
   ]
  },
  {
   "cell_type": "code",
   "execution_count": null,
   "metadata": {
    "slideshow": {
     "slide_type": "slide"
    }
   },
   "outputs": [],
   "source": [
    "vs = []\n",
    "for sec in h.allsec():\n",
    "    for seg in sec.allseg():\n",
    "        vs.append(seg.v)\n",
    "        \n",
    "vsmin = np.min(vs)\n",
    "vsmax = np.max(vs)\n",
    "print(f'min voltage: {vsmin}, max voltage: {vsmax}')"
   ]
  },
  {
   "cell_type": "code",
   "execution_count": null,
   "metadata": {},
   "outputs": [],
   "source": [
    "ps.scale(vsmin, vsmax)"
   ]
  },
  {
   "cell_type": "code",
   "execution_count": null,
   "metadata": {
    "slideshow": {
     "slide_type": "slide"
    }
   },
   "outputs": [],
   "source": [
    "ps.printfile(\"L23_voltage_1.eps\")"
   ]
  },
  {
   "cell_type": "markdown",
   "metadata": {
    "slideshow": {
     "slide_type": "slide"
    }
   },
   "source": [
    "You can plot other variables, too, with a little trick."
   ]
  },
  {
   "cell_type": "code",
   "execution_count": null,
   "metadata": {},
   "outputs": [],
   "source": [
    "vs = []\n",
    "for sec in h.allsec():\n",
    "    for seg in sec.allseg():\n",
    "        seg.v = h.distance(cell.soma(0.5), seg) # set the distance for soma\n",
    "        vs.append(seg.v)\n",
    "        \n",
    "vsmin = np.min(vs)\n",
    "vsmax = np.max(vs)\n",
    "print(f'min voltage: {vsmin}, max voltage: {vsmax}')\n",
    "\n",
    "ps.scale(vsmin, vsmax)"
   ]
  },
  {
   "cell_type": "markdown",
   "metadata": {
    "slideshow": {
     "slide_type": "slide"
    }
   },
   "source": [
    "# Building a network\n",
    "\n",
    "Network construction in NEURON follows the following steps:\n",
    "\n",
    "1. Prepare neurons (morphology, mechanisms, etc.) and external stimuli if necessary,\n",
    "2. Embed synapse objects in each neuron,\n",
    "3. Connect the neurons to the synapses via [NetCon](https://www.neuron.yale.edu/neuron/static/py_doc/modelspec/programmatic/network/netcon.html),\n",
    "4. Set up recordings,\n",
    "5. Run the simulation.\n",
    "\n",
    "![](./images/net_construction.png)\n",
    "\n",
    "\n",
    "Here we demonstrate two simple networks with one pyramidal neuron and one or two external stimuli."
   ]
  },
  {
   "cell_type": "markdown",
   "metadata": {
    "slideshow": {
     "slide_type": "slide"
    }
   },
   "source": [
    "## 1 Pyramidal cell + 1 synapse\n",
    "\n",
    "Again, we start from importing the NEURON and cell module."
   ]
  },
  {
   "cell_type": "code",
   "execution_count": null,
   "metadata": {
    "scrolled": true
   },
   "outputs": [],
   "source": [
    "import numpy as np\n",
    "import matplotlib.pyplot as plt\n",
    "from neuron import h, gui\n",
    "import libcell\n",
    "\n",
    "cell = libcell.L23()"
   ]
  },
  {
   "cell_type": "markdown",
   "metadata": {
    "slideshow": {
     "slide_type": "slide"
    }
   },
   "source": [
    "Here we open a session that embeds a synapse object called [Exp2Syn](https://www.neuron.yale.edu/neuron/static/py_doc/modelspec/programmatic/mechanisms/mech.html?highlight=exp2syn#Exp2Syn)."
   ]
  },
  {
   "cell_type": "code",
   "execution_count": null,
   "metadata": {},
   "outputs": [],
   "source": [
    "syn = [h.Exp2Syn(cell.soma(0.5))]"
   ]
  },
  {
   "cell_type": "code",
   "execution_count": null,
   "metadata": {},
   "outputs": [],
   "source": [
    "print(f'Erev = {syn[0].e}\\ntau1 = {syn[0].tau1} ms\\ntau2 = {syn[0].tau2} ms')"
   ]
  },
  {
   "cell_type": "markdown",
   "metadata": {
    "slideshow": {
     "slide_type": "slide"
    }
   },
   "source": [
    "Again we define our run function:"
   ]
  },
  {
   "cell_type": "code",
   "execution_count": null,
   "metadata": {},
   "outputs": [],
   "source": [
    "def run(tstop=250):\n",
    "    \"\"\"runs a simulation and returns the membrane potential recording at the soma.\"\"\"\n",
    "    dt = 0.1 # Again we use 10kHz sampling rate, e.g. 0.1 ms interval\n",
    "    \n",
    "    trec = h.Vector() # Record time\n",
    "    vrec = h.Vector() # Record voltage\n",
    "    \n",
    "    trec.record(h._ref_t, dt)\n",
    "    vrec.record(cell.soma(0.5)._ref_v, dt)\n",
    "    \n",
    "    h.v_init = -75\n",
    "    \n",
    "    h.tstop = tstop  # Set how long the simulation will run.\n",
    "    h.init()\n",
    "    h.run()\n",
    "    \n",
    "    return trec.c(), vrec.c() # Should return a copy of the vector"
   ]
  },
  {
   "cell_type": "markdown",
   "metadata": {
    "slideshow": {
     "slide_type": "slide"
    }
   },
   "source": [
    "However, nothing happens during our simulation since there is no input connected to the synapse."
   ]
  },
  {
   "cell_type": "code",
   "execution_count": null,
   "metadata": {},
   "outputs": [],
   "source": [
    "t, vrec = run()\n",
    "\n",
    "fig, ax = plt.subplots()\n",
    "ax.plot(t, vrec)"
   ]
  },
  {
   "cell_type": "markdown",
   "metadata": {
    "slideshow": {
     "slide_type": "slide"
    }
   },
   "source": [
    "Therefore, we prepare an artificial spike generator called [NetStim](https://www.neuron.yale.edu/neuron/static/py_doc/modelspec/programmatic/mechanisms/mech.html?highlight=netstim#NetStim) and connect this to this synapse by a `NetCon` object."
   ]
  },
  {
   "cell_type": "code",
   "execution_count": null,
   "metadata": {},
   "outputs": [],
   "source": [
    "# Check out the documentation for what the parameters are\n",
    "stim = h.NetStim()\n",
    "stim.start = 50\n",
    "stim.number = 1\n",
    "stim.interval = 5\n",
    "stim.noise = 0\n",
    "\n",
    "# Connect stim to our synapse\n",
    "nc = h.NetCon(stim, syn[0])"
   ]
  },
  {
   "cell_type": "markdown",
   "metadata": {
    "slideshow": {
     "slide_type": "slide"
    }
   },
   "source": [
    "Nothing happens yet since the synaptic conductance is 0. We set this to a non-zero value:"
   ]
  },
  {
   "cell_type": "code",
   "execution_count": null,
   "metadata": {},
   "outputs": [],
   "source": [
    "nc.weight[0] = 0.01 # 0.01 nS = 10 pS of the synaptic conductance"
   ]
  },
  {
   "cell_type": "code",
   "execution_count": null,
   "metadata": {},
   "outputs": [],
   "source": [
    "t, vrec = run()\n",
    "\n",
    "fig, ax = plt.subplots()\n",
    "ax.plot(t, vrec)\n",
    "ax.set(xlabel=\"time (ms)\", ylabel=\"voltage (mV)\")"
   ]
  },
  {
   "cell_type": "markdown",
   "metadata": {
    "slideshow": {
     "slide_type": "slide"
    }
   },
   "source": [
    "Now we see EPSPs triggered by spikes from `stim`."
   ]
  },
  {
   "cell_type": "code",
   "execution_count": null,
   "metadata": {},
   "outputs": [],
   "source": [
    "stim.start = 50\n",
    "stim.number = 5\n",
    "stim.interval = 40\n",
    "stim.noise = 0"
   ]
  },
  {
   "cell_type": "markdown",
   "metadata": {
    "slideshow": {
     "slide_type": "slide"
    }
   },
   "source": [
    "## Multiple synapses\n",
    "\n",
    "Of course, we can add more synapses!"
   ]
  },
  {
   "cell_type": "code",
   "execution_count": null,
   "metadata": {},
   "outputs": [],
   "source": [
    "syn.append(h.Exp2Syn(cell.soma(0.5)))"
   ]
  },
  {
   "cell_type": "markdown",
   "metadata": {
    "slideshow": {
     "slide_type": "slide"
    }
   },
   "source": [
    "Here we put the spike generators and NetCons in lists:"
   ]
  },
  {
   "cell_type": "code",
   "execution_count": null,
   "metadata": {},
   "outputs": [],
   "source": [
    "stim = []\n",
    "nc = []\n",
    "for i in range(2):\n",
    "    stim.append(h.NetStim())\n",
    "    stim[i].start = 50\n",
    "    stim[i].number = 1\n",
    "    stim[i].noise = 0\n",
    "    \n",
    "    nc.append(h.NetCon(stim[i], syn[i]))\n",
    "    nc[i].weight[0] = 0.01"
   ]
  },
  {
   "cell_type": "code",
   "execution_count": null,
   "metadata": {
    "slideshow": {
     "slide_type": "slide"
    }
   },
   "outputs": [],
   "source": [
    "stim[1].start = 150\n",
    "\n",
    "t, vrec = run()\n",
    "\n",
    "fig, ax = plt.subplots()\n",
    "t = np.arange(vrec.size())*0.1\n",
    "ax.plot(t, vrec)\n",
    "ax.set(xlabel=\"time (ms)\", ylabel=\"voltage (mV)\")"
   ]
  },
  {
   "cell_type": "markdown",
   "metadata": {
    "slideshow": {
     "slide_type": "slide"
    }
   },
   "source": [
    "Here we move the synapses:"
   ]
  },
  {
   "cell_type": "code",
   "execution_count": null,
   "metadata": {},
   "outputs": [],
   "source": [
    "syn[0].loc(cell.dends[10](0.2))\n",
    "syn[1].loc(cell.dends[10](0.8))"
   ]
  },
  {
   "cell_type": "markdown",
   "metadata": {
    "slideshow": {
     "slide_type": "slide"
    }
   },
   "source": [
    "Let's check the locations!"
   ]
  },
  {
   "cell_type": "code",
   "execution_count": null,
   "metadata": {
    "slideshow": {
     "slide_type": "-"
    }
   },
   "outputs": [],
   "source": [
    "ps = h.Shape(0)\n",
    "ps.view(-191.578, -172.628, 369.697, 431.069, 106, 253, 483.84, 563.2)"
   ]
  },
  {
   "cell_type": "code",
   "execution_count": null,
   "metadata": {},
   "outputs": [],
   "source": [
    "ps.point_mark(syn[0], 2) # red\n",
    "ps.point_mark(syn[1], 3) # blue"
   ]
  },
  {
   "cell_type": "code",
   "execution_count": null,
   "metadata": {
    "slideshow": {
     "slide_type": "slide"
    }
   },
   "outputs": [],
   "source": [
    "stim[1].start = stim[0].start+15\n",
    "\n",
    "t, vrec = run()\n",
    "\n",
    "fig, ax = plt.subplots()\n",
    "ax.plot(t, vrec)\n",
    "ax.set(xlabel=\"time (ms)\", ylabel=\"voltage (mV)\")"
   ]
  },
  {
   "cell_type": "markdown",
   "metadata": {
    "slideshow": {
     "slide_type": "slide"
    }
   },
   "source": [
    "Let's try different locations"
   ]
  },
  {
   "cell_type": "code",
   "execution_count": null,
   "metadata": {},
   "outputs": [],
   "source": [
    "syn[0].loc(cell.dends[10](0.25))\n",
    "syn[1].loc(cell.dends[11](0.8))"
   ]
  },
  {
   "cell_type": "code",
   "execution_count": null,
   "metadata": {
    "slideshow": {
     "slide_type": "slide"
    }
   },
   "outputs": [],
   "source": [
    "stim[1].start = stim[0].start+15\n",
    "\n",
    "t, vrec = run()\n",
    "\n",
    "fig, ax = plt.subplots()\n",
    "ax.plot(t, vrec)\n",
    "ax.set(xlabel=\"time (ms)\", ylabel=\"voltage (mV)\")"
   ]
  }
 ],
 "metadata": {
  "@webio": {
   "lastCommId": null,
   "lastKernelId": null
  },
  "celltoolbar": "Slideshow",
  "kernel_info": {
   "name": "python3"
  },
  "kernelspec": {
   "display_name": "Python 3 (ipykernel)",
   "language": "python",
   "name": "python3"
  },
  "language_info": {
   "codemirror_mode": {
    "name": "ipython",
    "version": 3
   },
   "file_extension": ".py",
   "mimetype": "text/x-python",
   "name": "python",
   "nbconvert_exporter": "python",
   "pygments_lexer": "ipython3",
   "version": "3.10.9"
  },
  "nteract": {
   "version": "0.12.3"
  }
 },
 "nbformat": 4,
 "nbformat_minor": 4
}
