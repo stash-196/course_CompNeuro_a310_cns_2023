{
 "cells": [
  {
   "cell_type": "markdown",
   "metadata": {},
   "source": [
    "# Using external inputs to interrogate a model of single neuron"
   ]
  },
  {
   "cell_type": "markdown",
   "metadata": {},
   "source": [
    "## Useful references\n",
    "\n",
    "### Python + Numpy + Matplotlib + etc.\n",
    "\n",
    "* Python Numpy Tutorial: http://cs231n.github.io/python-numpy-tutorial/\n",
    "* Numpy for MATLAB users: https://docs.scipy.org/doc/numpy-dev/user/numpy-for-matlab-users.html\n",
    "* MATLAB synonymous commands in Python/NumPy: http://mathesaurus.sourceforge.net/\n",
    "* Effectively using matplotlib: https://pbpython.com/effective-matplotlib.html\n",
    "\n",
    "\n",
    "### NEURON (with Python)\n",
    "* NEURON documentation: https://www.neuron.yale.edu/neuron/static/py_doc/index.html\n",
    "* NEURON + Python tutorial: https://neuron.yale.edu/neuron/docs/scripting-neuron-basics\n"
   ]
  },
  {
   "cell_type": "markdown",
   "metadata": {},
   "source": [
    "Here we demonstrate how to use external inputs to a model neuron to characterize and study its properties.\n",
    "\n",
    "For this, we need objects to deliver localized perturbation to a neuron, which we call [point processes](https://neuron.yale.edu/neuron/static/py_doc/modelspec/programmatic/mechanisms/mech.html). Today, we will particularly focus on the [`IClamp`](https://neuron.yale.edu/neuron/static/py_doc/modelspec/programmatic/mechanisms/mech.html#IClamp) that can perform current injection into a neuron --- a simulation of the current clamp experiment."
   ]
  },
  {
   "cell_type": "markdown",
   "metadata": {},
   "source": [
    "We first start with importing necessary modules, including `neuron`"
   ]
  },
  {
   "cell_type": "code",
   "execution_count": 1,
   "metadata": {},
   "outputs": [],
   "source": [
    "import numpy as np\n",
    "import matplotlib.pyplot as plt\n",
    "from neuron import h, gui"
   ]
  },
  {
   "cell_type": "markdown",
   "metadata": {},
   "source": [
    "Then, we load a model of a cortical pyramidal cell model"
   ]
  },
  {
   "cell_type": "code",
   "execution_count": 2,
   "metadata": {},
   "outputs": [
    {
     "name": "stdout",
     "output_type": "stream",
     "text": [
      "\t0 \n",
      "\t1 \n",
      "\t1 \n",
      "\t1 \n",
      "\t1 \n"
     ]
    }
   ],
   "source": [
    "import libcell\n",
    "\n",
    "cell = libcell.L23()"
   ]
  },
  {
   "cell_type": "markdown",
   "metadata": {},
   "source": [
    "We can inspect the model by `psection`"
   ]
  },
  {
   "cell_type": "code",
   "execution_count": 3,
   "metadata": {},
   "outputs": [
    {
     "name": "stdout",
     "output_type": "stream",
     "text": [
      "soma { nseg=7  L=9.26604  Ra=100\n",
      "\t/*location 0 attached to cell 0*/\n",
      "\t/* First segment only */\n",
      "\tinsert capacitance { cm=1}\n",
      "\tinsert morphology { diam=29.7838}\n",
      "\tinsert pas { g_pas=0.000142857 e_pas=-75}\n",
      "}\n"
     ]
    },
    {
     "data": {
      "text/plain": [
       "1.0"
      ]
     },
     "execution_count": 3,
     "metadata": {},
     "output_type": "execute_result"
    }
   ],
   "source": [
    "h.psection()"
   ]
  },
  {
   "cell_type": "code",
   "execution_count": 4,
   "metadata": {},
   "outputs": [
    {
     "data": {
      "text/plain": [
       "{'point_processes': {},\n",
       " 'density_mechs': {'pas': {'g': [0.00014285714285714287,\n",
       "    0.00014285714285714287,\n",
       "    0.00014285714285714287,\n",
       "    0.00014285714285714287,\n",
       "    0.00014285714285714287,\n",
       "    0.00014285714285714287,\n",
       "    0.00014285714285714287],\n",
       "   'e': [-75.0, -75.0, -75.0, -75.0, -75.0, -75.0, -75.0],\n",
       "   'i': [0.0, 0.0, 0.0, 0.0, 0.0, 0.0, 0.0]}},\n",
       " 'ions': {},\n",
       " 'morphology': {'L': 4.239810963870551,\n",
       "  'diam': [2.449559450149536,\n",
       "   2.449559450149536,\n",
       "   2.449559450149537,\n",
       "   2.4495594501495357,\n",
       "   2.449559450149537,\n",
       "   2.449559450149537,\n",
       "   2.449559450149534],\n",
       "  'pts3d': [(0.0, 0.0, 13.237199783325195, 2.449559450149536),\n",
       "   (0.07000026851892471,\n",
       "    0.13999786972999573,\n",
       "    15.617199897766113,\n",
       "    2.449559450149536),\n",
       "   (-0.07000026851892471,\n",
       "    -0.7700015902519226,\n",
       "    17.22719955444336,\n",
       "    2.449559450149536)],\n",
       "  'parent': soma(1),\n",
       "  'trueparent': soma(1)},\n",
       " 'nseg': 7,\n",
       " 'Ra': 100.0,\n",
       " 'cm': [1.0, 1.0, 1.0, 1.0, 1.0, 1.0, 1.0]}"
      ]
     },
     "execution_count": 4,
     "metadata": {},
     "output_type": "execute_result"
    }
   ],
   "source": [
    "cell.dends[0].psection()"
   ]
  },
  {
   "cell_type": "code",
   "execution_count": 5,
   "metadata": {},
   "outputs": [
    {
     "data": {
      "text/plain": [
       "[dend1_1,\n",
       " dend1_11,\n",
       " dend1_111,\n",
       " dend1_1111,\n",
       " dend1_1112,\n",
       " dend1_112,\n",
       " dend1_1121,\n",
       " dend1_1122,\n",
       " dend1_12,\n",
       " dend1_121,\n",
       " dend1_1211,\n",
       " dend1_1212,\n",
       " dend1_122,\n",
       " dend1_1221,\n",
       " dend1_1222,\n",
       " dend1_12221,\n",
       " dend1_12222,\n",
       " dend2_1,\n",
       " dend2_11,\n",
       " dend2_111,\n",
       " dend2_1111,\n",
       " dend2_1112,\n",
       " dend2_112,\n",
       " dend2_1121,\n",
       " dend2_1122,\n",
       " dend2_12,\n",
       " dend2_121,\n",
       " dend2_1211,\n",
       " dend2_12111,\n",
       " dend2_121111,\n",
       " dend2_121112,\n",
       " dend2_12112,\n",
       " dend2_121121,\n",
       " dend2_1211211,\n",
       " dend2_1211212,\n",
       " dend2_12112121,\n",
       " dend2_12112122,\n",
       " dend2_121122,\n",
       " dend2_1212,\n",
       " dend2_12121,\n",
       " dend2_121211,\n",
       " dend2_121212,\n",
       " dend2_12122,\n",
       " dend2_122,\n",
       " dend2_1221,\n",
       " dend2_12211,\n",
       " dend2_12212,\n",
       " dend2_1222,\n",
       " dend2_12221,\n",
       " dend2_12222,\n",
       " dend3_1,\n",
       " dend3_11,\n",
       " dend3_111,\n",
       " dend3_1111,\n",
       " dend3_1112,\n",
       " dend3_11121,\n",
       " dend3_11122,\n",
       " dend3_112,\n",
       " dend3_1121,\n",
       " dend3_1122,\n",
       " dend3_12,\n",
       " dend3_121,\n",
       " dend3_1211,\n",
       " dend3_1212,\n",
       " dend3_12121,\n",
       " dend3_12122,\n",
       " dend3_121221,\n",
       " dend3_121222,\n",
       " dend3_1212221,\n",
       " dend3_1212222,\n",
       " dend3_12122221,\n",
       " dend3_12122222,\n",
       " dend3_121222221,\n",
       " dend3_1212222211,\n",
       " dend3_12122222111,\n",
       " dend3_12122222112,\n",
       " dend3_1212222212,\n",
       " dend3_121222222,\n",
       " dend3_1212222221,\n",
       " dend3_1212222222,\n",
       " dend3_12122222221,\n",
       " dend3_12122222222,\n",
       " dend3_122,\n",
       " dend3_1221,\n",
       " dend3_12211,\n",
       " dend3_12212,\n",
       " dend3_1222,\n",
       " dend4_1,\n",
       " dend4_11,\n",
       " dend4_111,\n",
       " dend4_1111,\n",
       " dend4_1112,\n",
       " dend4_11121,\n",
       " dend4_11122,\n",
       " dend4_112,\n",
       " dend4_1121,\n",
       " dend4_1122,\n",
       " dend4_12,\n",
       " dend4_121,\n",
       " dend4_122,\n",
       " dend4_1221,\n",
       " dend4_1222,\n",
       " dend4_12221,\n",
       " dend4_12222]"
      ]
     },
     "execution_count": 5,
     "metadata": {},
     "output_type": "execute_result"
    }
   ],
   "source": [
    "cell.dends"
   ]
  },
  {
   "cell_type": "markdown",
   "metadata": {},
   "source": [
    "Here we load a session file for the virtual current clamp experiment:"
   ]
  },
  {
   "cell_type": "code",
   "execution_count": null,
   "metadata": {},
   "outputs": [
    {
     "ename": "",
     "evalue": "",
     "output_type": "error",
     "traceback": [
      "\u001b[1;31mThe Kernel crashed while executing code in the the current cell or a previous cell. Please review the code in the cell(s) to identify a possible cause of the failure. Click <a href='https://aka.ms/vscodeJupyterKernelCrash'>here</a> for more info. View Jupyter <a href='command:jupyter.viewOutput'>log</a> for further details."
     ]
    },
    {
     "ename": "",
     "evalue": "",
     "output_type": "error",
     "traceback": [
      "\u001b[1;31mCanceled future for execute_request message before replies were done"
     ]
    }
   ],
   "source": [
    "h.xopen(\"iclamp.ses\")"
   ]
  },
  {
   "cell_type": "markdown",
   "metadata": {},
   "source": [
    "Loading this session embeds a current clamp electrode `h.IClamp[0]`, whose parameters are:"
   ]
  },
  {
   "cell_type": "code",
   "execution_count": null,
   "metadata": {},
   "outputs": [
    {
     "ename": "",
     "evalue": "",
     "output_type": "error",
     "traceback": [
      "\u001b[1;31mRunning cells with '/opt/homebrew/bin/python3.11' requires the ipykernel package.\n",
      "\u001b[1;31mRun the following command to install 'ipykernel' into the Python environment. \n",
      "\u001b[1;31mCommand: '/opt/homebrew/bin/python3.11 -m pip install ipykernel -U --user --force-reinstall'"
     ]
    }
   ],
   "source": [
    "print('Activation onset = {} ms\\nDuration = {} ms\\nAmplitude = {} nA'.format(\n",
    "        h.IClamp[0].delay, h.IClamp[0].dur, h.IClamp[0].amp))"
   ]
  },
  {
   "cell_type": "markdown",
   "metadata": {},
   "source": [
    "You can control the location and parameters via the \"PointProcessManager\" window. Now let's run simulation while recording the membrane potential at soma."
   ]
  },
  {
   "cell_type": "code",
   "execution_count": null,
   "metadata": {},
   "outputs": [
    {
     "ename": "",
     "evalue": "",
     "output_type": "error",
     "traceback": [
      "\u001b[1;31mRunning cells with '/opt/homebrew/bin/python3.11' requires the ipykernel package.\n",
      "\u001b[1;31mRun the following command to install 'ipykernel' into the Python environment. \n",
      "\u001b[1;31mCommand: '/opt/homebrew/bin/python3.11 -m pip install ipykernel -U --user --force-reinstall'"
     ]
    }
   ],
   "source": [
    "def run(tstop=300):\n",
    "    \"\"\"runs a simulation and returns the membrane potential recording at the soma.\"\"\"\n",
    "    dt = 0.1 # Again we use 10kHz sampling rate, e.g. 0.1 ms interval\n",
    "    vrec = h.Vector() # The recording will be save in this vector\n",
    "    vrec.record(cell.soma(0.5)._ref_v, dt)\n",
    "    \n",
    "    h.tstop = tstop  # Set how long the simulation will run.\n",
    "    h.init()\n",
    "    h.run()\n",
    "    \n",
    "    return vrec.c() # Should return a copy of the vector\n",
    "\n"
   ]
  },
  {
   "cell_type": "code",
   "execution_count": null,
   "metadata": {},
   "outputs": [
    {
     "ename": "",
     "evalue": "",
     "output_type": "error",
     "traceback": [
      "\u001b[1;31mRunning cells with '/opt/homebrew/bin/python3.11' requires the ipykernel package.\n",
      "\u001b[1;31mRun the following command to install 'ipykernel' into the Python environment. \n",
      "\u001b[1;31mCommand: '/opt/homebrew/bin/python3.11 -m pip install ipykernel -U --user --force-reinstall'"
     ]
    }
   ],
   "source": [
    "def run(tstop=300):\n",
    "    \"\"\"runs a simulation and returns the membrane potential recording at the soma.\"\"\"\n",
    "    dt = 0.1 # Again we use 10kHz sampling rate, e.g. 0.1 ms interval\n",
    "    vrec = h.Vector() # The recording will be save in this vector\n",
    "    vrec.record(cell.soma(0.5)._ref_v, dt)\n",
    "\n",
    "    h.v_init = -75\n",
    "    \n",
    "    h.tstop = tstop  # Set how long the simulation will run.\n",
    "    h.init()\n",
    "    h.run()\n",
    "    \n",
    "    return vrec.c() # Should return a copy of the vector\n",
    "\n",
    "vrec = run()\n",
    "t = np.arange(vrec.size())*0.1\n",
    "plt.plot(t, vrec)"
   ]
  },
  {
   "cell_type": "markdown",
   "metadata": {},
   "source": [
    "Let's collect multiple recordings in a list and also make a note about where the electrode was. First, we prepare two empty lists, one for voltage recordings and the other for electrode-to-soma distance:"
   ]
  },
  {
   "cell_type": "code",
   "execution_count": null,
   "metadata": {},
   "outputs": [
    {
     "ename": "",
     "evalue": "",
     "output_type": "error",
     "traceback": [
      "\u001b[1;31mRunning cells with '/opt/homebrew/bin/python3.11' requires the ipykernel package.\n",
      "\u001b[1;31mRun the following command to install 'ipykernel' into the Python environment. \n",
      "\u001b[1;31mCommand: '/opt/homebrew/bin/python3.11 -m pip install ipykernel -U --user --force-reinstall'"
     ]
    }
   ],
   "source": [
    "# Reset lists\n",
    "vrecs = []\n",
    "distances = []\n",
    "\n",
    "# Set the origin to cell.soma(0) \n",
    "# See https://www.neuron.yale.edu/neuron/static/py_doc/modelspec/programmatic/topology/geometry.html#distance\n",
    "h.distance(sec=cell.soma)  # set the reference point"
   ]
  },
  {
   "cell_type": "code",
   "execution_count": null,
   "metadata": {},
   "outputs": [
    {
     "ename": "",
     "evalue": "",
     "output_type": "error",
     "traceback": [
      "\u001b[1;31mRunning cells with '/opt/homebrew/bin/python3.11' requires the ipykernel package.\n",
      "\u001b[1;31mRun the following command to install 'ipykernel' into the Python environment. \n",
      "\u001b[1;31mCommand: '/opt/homebrew/bin/python3.11 -m pip install ipykernel -U --user --force-reinstall'"
     ]
    }
   ],
   "source": [
    "result = run()\n",
    "vrecs.append(result)\n",
    "\n",
    "# Measure a distance to the origin from the electrode\n",
    "distances.append(\n",
    "    h.distance(h.IClamp[0].get_segment()) # get segment where the electrode is located. Will be used to measure distance from the reference point\n",
    ") \n",
    "print(\"Number of simulations ran =\", len(vrecs), \n",
    "     \", Distance = \", h.distance(h.IClamp[0].get_segment()), \"um\")"
   ]
  },
  {
   "cell_type": "code",
   "execution_count": null,
   "metadata": {},
   "outputs": [
    {
     "ename": "",
     "evalue": "",
     "output_type": "error",
     "traceback": [
      "\u001b[1;31mRunning cells with '/opt/homebrew/bin/python3.11' requires the ipykernel package.\n",
      "\u001b[1;31mRun the following command to install 'ipykernel' into the Python environment. \n",
      "\u001b[1;31mCommand: '/opt/homebrew/bin/python3.11 -m pip install ipykernel -U --user --force-reinstall'"
     ]
    }
   ],
   "source": [
    "fig,ax = plt.subplots()\n",
    "\n",
    "t = np.arange(3000)*0.1 # Remember that we use 10kHz for a sampling rate\n",
    "for v in vrecs:\n",
    "    ax.plot(t, v)\n",
    "ax.legend(distances)\n",
    "ax.set(xlabel='time (ms)', ylabel='Voltage (mV)')"
   ]
  },
  {
   "cell_type": "markdown",
   "metadata": {},
   "source": [
    "## * How to locate and move point processes\n",
    "\n",
    "### 1. How to find out the electrode location\n",
    "\n",
    "`PointProcess.get_segment()` returns the segment that a point process is located.\n",
    "\n"
   ]
  },
  {
   "cell_type": "code",
   "execution_count": null,
   "metadata": {},
   "outputs": [
    {
     "ename": "",
     "evalue": "",
     "output_type": "error",
     "traceback": [
      "\u001b[1;31mRunning cells with '/opt/homebrew/bin/python3.11' requires the ipykernel package.\n",
      "\u001b[1;31mRun the following command to install 'ipykernel' into the Python environment. \n",
      "\u001b[1;31mCommand: '/opt/homebrew/bin/python3.11 -m pip install ipykernel -U --user --force-reinstall'"
     ]
    }
   ],
   "source": [
    "sec = h.IClamp[0].get_segment()\n",
    "sec"
   ]
  },
  {
   "cell_type": "markdown",
   "metadata": {},
   "source": [
    "Now we can measure the distance between any section(0) to this electrode using `h.distance`. For example,"
   ]
  },
  {
   "cell_type": "code",
   "execution_count": null,
   "metadata": {},
   "outputs": [
    {
     "ename": "",
     "evalue": "",
     "output_type": "error",
     "traceback": [
      "\u001b[1;31mRunning cells with '/opt/homebrew/bin/python3.11' requires the ipykernel package.\n",
      "\u001b[1;31mRun the following command to install 'ipykernel' into the Python environment. \n",
      "\u001b[1;31mCommand: '/opt/homebrew/bin/python3.11 -m pip install ipykernel -U --user --force-reinstall'"
     ]
    }
   ],
   "source": [
    "h.distance(sec=cell.soma) # Set an origin to cell.soma(0)\n",
    "print(h.distance(h.IClamp[0].get_segment())) # Measure a distance to the origin from the electrode\n",
    "\n",
    "h.distance(cell.soma(0), h.IClamp[0].get_segment())"
   ]
  },
  {
   "cell_type": "markdown",
   "metadata": {},
   "source": [
    "### 2. How to find and get a particular section/segment\n",
    "\n",
    "Here's how find all sections and segments in our `cell`:\n",
    "* `h.allsec()` yields an iterator to go through all the sections in a model,\n",
    "* Given a section, say `sec`, `sec.allseg()` yields an iterator for all segments in `sec`,\n",
    "* If we know a particular location in terms of the relative coordinate `x`, we can use `sec(x)`,"
   ]
  },
  {
   "cell_type": "markdown",
   "metadata": {},
   "source": [
    "Here is an example of going through all segments in a model with showing their distance to the soma:"
   ]
  },
  {
   "cell_type": "code",
   "execution_count": null,
   "metadata": {},
   "outputs": [
    {
     "ename": "",
     "evalue": "",
     "output_type": "error",
     "traceback": [
      "\u001b[1;31mRunning cells with '/opt/homebrew/bin/python3.11' requires the ipykernel package.\n",
      "\u001b[1;31mRun the following command to install 'ipykernel' into the Python environment. \n",
      "\u001b[1;31mCommand: '/opt/homebrew/bin/python3.11 -m pip install ipykernel -U --user --force-reinstall'"
     ]
    }
   ],
   "source": [
    "print('segment , distance')\n",
    "for sec in h.allsec():\n",
    "    for seg in sec.allseg():\n",
    "        segname = '{}({})'.format(sec.name(), seg.x)\n",
    "        h.distance(sec=cell.soma) # set origin first at the soma\n",
    "        print(segname, ',', h.distance(seg)) # print segment and distance from the soma"
   ]
  },
  {
   "cell_type": "markdown",
   "metadata": {},
   "source": [
    "`PointProcess.loc(segment)` moves the point process to a given segment."
   ]
  },
  {
   "cell_type": "code",
   "execution_count": null,
   "metadata": {},
   "outputs": [
    {
     "ename": "",
     "evalue": "",
     "output_type": "error",
     "traceback": [
      "\u001b[1;31mRunning cells with '/opt/homebrew/bin/python3.11' requires the ipykernel package.\n",
      "\u001b[1;31mRun the following command to install 'ipykernel' into the Python environment. \n",
      "\u001b[1;31mCommand: '/opt/homebrew/bin/python3.11 -m pip install ipykernel -U --user --force-reinstall'"
     ]
    }
   ],
   "source": [
    "h.IClamp[0].loc(h.dend1_111(0.07142857142857142))"
   ]
  },
  {
   "cell_type": "markdown",
   "metadata": {},
   "source": [
    "### 3. Example: How to find a segment in `cell` by a name and move our electrode to it."
   ]
  },
  {
   "cell_type": "code",
   "execution_count": null,
   "metadata": {},
   "outputs": [
    {
     "ename": "",
     "evalue": "",
     "output_type": "error",
     "traceback": [
      "\u001b[1;31mRunning cells with '/opt/homebrew/bin/python3.11' requires the ipykernel package.\n",
      "\u001b[1;31mRun the following command to install 'ipykernel' into the Python environment. \n",
      "\u001b[1;31mCommand: '/opt/homebrew/bin/python3.11 -m pip install ipykernel -U --user --force-reinstall'"
     ]
    }
   ],
   "source": [
    "sec_to_find = [sec for sec in cell.dends if sec.name()=='dend2_11'] #2222']\n",
    "sec_to_find = sec_to_find[0]\n",
    "sec_to_find"
   ]
  },
  {
   "cell_type": "code",
   "execution_count": null,
   "metadata": {},
   "outputs": [
    {
     "ename": "",
     "evalue": "",
     "output_type": "error",
     "traceback": [
      "\u001b[1;31mRunning cells with '/opt/homebrew/bin/python3.11' requires the ipykernel package.\n",
      "\u001b[1;31mRun the following command to install 'ipykernel' into the Python environment. \n",
      "\u001b[1;31mCommand: '/opt/homebrew/bin/python3.11 -m pip install ipykernel -U --user --force-reinstall'"
     ]
    }
   ],
   "source": [
    "segs = [seg for seg in sec_to_find.allseg()]\n",
    "segs"
   ]
  },
  {
   "cell_type": "markdown",
   "metadata": {},
   "source": [
    "Then, we move our `IClamp` to the second segment,"
   ]
  },
  {
   "cell_type": "code",
   "execution_count": null,
   "metadata": {},
   "outputs": [
    {
     "ename": "",
     "evalue": "",
     "output_type": "error",
     "traceback": [
      "\u001b[1;31mRunning cells with '/opt/homebrew/bin/python3.11' requires the ipykernel package.\n",
      "\u001b[1;31mRun the following command to install 'ipykernel' into the Python environment. \n",
      "\u001b[1;31mCommand: '/opt/homebrew/bin/python3.11 -m pip install ipykernel -U --user --force-reinstall'"
     ]
    }
   ],
   "source": [
    "h.IClamp[0].loc(segs[7])"
   ]
  },
  {
   "cell_type": "markdown",
   "metadata": {},
   "source": [
    "Or, we can move it to a middle segment of the section,"
   ]
  },
  {
   "cell_type": "code",
   "execution_count": null,
   "metadata": {},
   "outputs": [
    {
     "ename": "",
     "evalue": "",
     "output_type": "error",
     "traceback": [
      "\u001b[1;31mRunning cells with '/opt/homebrew/bin/python3.11' requires the ipykernel package.\n",
      "\u001b[1;31mRun the following command to install 'ipykernel' into the Python environment. \n",
      "\u001b[1;31mCommand: '/opt/homebrew/bin/python3.11 -m pip install ipykernel -U --user --force-reinstall'"
     ]
    }
   ],
   "source": [
    "h.IClamp[0].loc(sec_to_find(0.5))"
   ]
  },
  {
   "cell_type": "markdown",
   "metadata": {},
   "source": [
    "### 4. How to access variables in sections\n",
    "\n",
    "You can access a variable defined in a section by (section).(variable name). Also, you can change its value by assignment. It is also possible to access/change a variable only for a segment, if a relative coordinate `x` for the segment is known, by (section)(x).(variable name).\n",
    "\n",
    "In the following example, we go through all the sections in the model and print the name, `g_pas` (conductance parameter of the passive mechanism), and `nseg`. "
   ]
  },
  {
   "cell_type": "code",
   "execution_count": null,
   "metadata": {},
   "outputs": [
    {
     "ename": "",
     "evalue": "",
     "output_type": "error",
     "traceback": [
      "\u001b[1;31mRunning cells with '/opt/homebrew/bin/python3.11' requires the ipykernel package.\n",
      "\u001b[1;31mRun the following command to install 'ipykernel' into the Python environment. \n",
      "\u001b[1;31mCommand: '/opt/homebrew/bin/python3.11 -m pip install ipykernel -U --user --force-reinstall'"
     ]
    }
   ],
   "source": [
    "for sec in h.allsec():\n",
    "    print(sec.name(), sec.g_pas, sec.nseg)"
   ]
  },
  {
   "cell_type": "code",
   "execution_count": null,
   "metadata": {},
   "outputs": [
    {
     "ename": "",
     "evalue": "",
     "output_type": "error",
     "traceback": [
      "\u001b[1;31mRunning cells with '/opt/homebrew/bin/python3.11' requires the ipykernel package.\n",
      "\u001b[1;31mRun the following command to install 'ipykernel' into the Python environment. \n",
      "\u001b[1;31mCommand: '/opt/homebrew/bin/python3.11 -m pip install ipykernel -U --user --force-reinstall'"
     ]
    }
   ],
   "source": [
    "for sec in h.allsec():\n",
    "    for seg in sec.allseg():\n",
    "        h.distance(sec=cell.soma)\n",
    "        print(sec.name(), h.distance(seg), seg.v)"
   ]
  },
  {
   "cell_type": "code",
   "execution_count": null,
   "metadata": {},
   "outputs": [
    {
     "ename": "",
     "evalue": "",
     "output_type": "error",
     "traceback": [
      "\u001b[1;31mRunning cells with '/opt/homebrew/bin/python3.11' requires the ipykernel package.\n",
      "\u001b[1;31mRun the following command to install 'ipykernel' into the Python environment. \n",
      "\u001b[1;31mCommand: '/opt/homebrew/bin/python3.11 -m pip install ipykernel -U --user --force-reinstall'"
     ]
    }
   ],
   "source": [
    "h.psection()"
   ]
  },
  {
   "cell_type": "markdown",
   "metadata": {},
   "source": [
    "Now let's change `g_pas`, the passive conductance, and check the result."
   ]
  },
  {
   "cell_type": "code",
   "execution_count": null,
   "metadata": {},
   "outputs": [
    {
     "ename": "",
     "evalue": "",
     "output_type": "error",
     "traceback": [
      "\u001b[1;31mRunning cells with '/opt/homebrew/bin/python3.11' requires the ipykernel package.\n",
      "\u001b[1;31mRun the following command to install 'ipykernel' into the Python environment. \n",
      "\u001b[1;31mCommand: '/opt/homebrew/bin/python3.11 -m pip install ipykernel -U --user --force-reinstall'"
     ]
    }
   ],
   "source": [
    "cell.soma.g_pas = 0.0001\n",
    "h.psection()"
   ]
  },
  {
   "cell_type": "code",
   "execution_count": null,
   "metadata": {},
   "outputs": [
    {
     "ename": "",
     "evalue": "",
     "output_type": "error",
     "traceback": [
      "\u001b[1;31mRunning cells with '/opt/homebrew/bin/python3.11' requires the ipykernel package.\n",
      "\u001b[1;31mRun the following command to install 'ipykernel' into the Python environment. \n",
      "\u001b[1;31mCommand: '/opt/homebrew/bin/python3.11 -m pip install ipykernel -U --user --force-reinstall'"
     ]
    }
   ],
   "source": []
  }
 ],
 "metadata": {
  "kernelspec": {
   "display_name": "compneuro",
   "language": "python",
   "name": "python3"
  },
  "language_info": {
   "codemirror_mode": {
    "name": "ipython",
    "version": 3
   },
   "file_extension": ".py",
   "mimetype": "text/x-python",
   "name": "python",
   "nbconvert_exporter": "python",
   "pygments_lexer": "ipython3",
   "version": "3.11.0"
  },
  "vscode": {
   "interpreter": {
    "hash": "2d22445050527c7c1b6e1e2b3a877339e26f637ffbeeef0a1a98d01f5d6ca60d"
   }
  }
 },
 "nbformat": 4,
 "nbformat_minor": 4
}
