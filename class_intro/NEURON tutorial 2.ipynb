{
 "cells": [
  {
   "cell_type": "markdown",
   "metadata": {
    "slideshow": {
     "slide_type": "slide"
    }
   },
   "source": [
    "# Using external inputs to interrogate a model of single neuron"
   ]
  },
  {
   "cell_type": "markdown",
   "metadata": {
    "slideshow": {
     "slide_type": "slide"
    }
   },
   "source": [
    "## Useful references\n",
    "\n",
    "### Python + Numpy + Matplotlib + etc.\n",
    "\n",
    "* Python Numpy Tutorial: http://cs231n.github.io/python-numpy-tutorial/\n",
    "* Numpy for MATLAB users: https://docs.scipy.org/doc/numpy-dev/user/numpy-for-matlab-users.html\n",
    "* MATLAB synonymous commands in Python/NumPy: http://mathesaurus.sourceforge.net/\n",
    "* Effectively using matplotlib: https://pbpython.com/effective-matplotlib.html\n",
    "\n",
    "\n",
    "### NEURON (with Python)\n",
    "* NEURON documentation: https://www.neuron.yale.edu/neuron/static/py_doc/index.html\n",
    "* NEURON + Python tutorial: https://neuron.yale.edu/neuron/docs/scripting-neuron-basics\n"
   ]
  },
  {
   "cell_type": "markdown",
   "metadata": {
    "slideshow": {
     "slide_type": "slide"
    }
   },
   "source": [
    "Here we demonstrate how to use external inputs to a model neuron to characterize and study its properties.\n",
    "\n",
    "For this, we need objects to deliver localized perturbation to a neuron, which we call [point processes](https://neuron.yale.edu/neuron/static/py_doc/modelspec/programmatic/mechanisms/mech.html). Today, we will particularly focus on the [`IClamp`](https://neuron.yale.edu/neuron/static/py_doc/modelspec/programmatic/mechanisms/mech.html#IClamp) that can perform current injection into a neuron --- a simulation of the current clamp experiment."
   ]
  },
  {
   "cell_type": "markdown",
   "metadata": {
    "slideshow": {
     "slide_type": "slide"
    }
   },
   "source": [
    "We first start with importing necessary modules, including `neuron`"
   ]
  },
  {
   "cell_type": "code",
   "execution_count": 1,
   "metadata": {},
   "outputs": [],
   "source": [
    "import numpy as np\n",
    "import matplotlib.pyplot as plt\n",
    "from neuron import h, gui"
   ]
  },
  {
   "cell_type": "markdown",
   "metadata": {
    "slideshow": {
     "slide_type": "slide"
    }
   },
   "source": [
    "Then, we load a model of a cortical pyramidal cell model"
   ]
  },
  {
   "cell_type": "code",
   "execution_count": 2,
   "metadata": {},
   "outputs": [
    {
     "name": "stdout",
     "output_type": "stream",
     "text": [
      "\t0 \n",
      "\t1 \n",
      "\t1 \n",
      "\t1 \n",
      "\t1 \n"
     ]
    }
   ],
   "source": [
    "import libcell\n",
    "\n",
    "cell = libcell.L23()"
   ]
  },
  {
   "cell_type": "markdown",
   "metadata": {
    "slideshow": {
     "slide_type": "slide"
    }
   },
   "source": [
    "We can inspect the model by `psection`"
   ]
  },
  {
   "cell_type": "code",
   "execution_count": 6,
   "metadata": {},
   "outputs": [
    {
     "name": "stdout",
     "output_type": "stream",
     "text": [
      "soma { nseg=7  L=9.26604  Ra=100\n",
      "\t/*location 0 attached to cell 0*/\n",
      "\t/* First segment only */\n",
      "\tinsert capacitance { cm=1}\n",
      "\tinsert morphology { diam=29.7838}\n",
      "\tinsert pas { g_pas=0.000142857 e_pas=-75}\n",
      "}\n"
     ]
    },
    {
     "data": {
      "text/plain": [
       "1.0"
      ]
     },
     "execution_count": 6,
     "metadata": {},
     "output_type": "execute_result"
    }
   ],
   "source": [
    "h.psection()"
   ]
  },
  {
   "cell_type": "code",
   "execution_count": 7,
   "metadata": {
    "slideshow": {
     "slide_type": "slide"
    }
   },
   "outputs": [
    {
     "data": {
      "text/plain": [
       "[dend1_1, dend1_11, dend1_111, dend1_1111, dend1_1112]"
      ]
     },
     "execution_count": 7,
     "metadata": {},
     "output_type": "execute_result"
    }
   ],
   "source": [
    "cell.dends[:5]"
   ]
  },
  {
   "cell_type": "code",
   "execution_count": 8,
   "metadata": {
    "slideshow": {
     "slide_type": "slide"
    }
   },
   "outputs": [
    {
     "data": {
      "text/plain": [
       "{'point_processes': {},\n",
       " 'density_mechs': {'pas': {'g': [0.00014285714285714287,\n",
       "    0.00014285714285714287,\n",
       "    0.00014285714285714287,\n",
       "    0.00014285714285714287,\n",
       "    0.00014285714285714287,\n",
       "    0.00014285714285714287,\n",
       "    0.00014285714285714287],\n",
       "   'e': [-75.0, -75.0, -75.0, -75.0, -75.0, -75.0, -75.0],\n",
       "   'i': [0.0, 0.0, 0.0, 0.0, 0.0, 0.0, 0.0]}},\n",
       " 'ions': {},\n",
       " 'morphology': {'L': 4.239810963870551,\n",
       "  'diam': [2.449559450149536,\n",
       "   2.449559450149536,\n",
       "   2.449559450149537,\n",
       "   2.4495594501495357,\n",
       "   2.449559450149537,\n",
       "   2.449559450149537,\n",
       "   2.449559450149534],\n",
       "  'pts3d': [(0.0, 0.0, 9.266039848327637, 2.449559450149536),\n",
       "   (0.07000026851892471,\n",
       "    0.13999786972999573,\n",
       "    11.646039962768555,\n",
       "    2.449559450149536),\n",
       "   (-0.07000026851892471,\n",
       "    -0.7700015902519226,\n",
       "    13.2560396194458,\n",
       "    2.449559450149536)],\n",
       "  'parent': soma(1),\n",
       "  'trueparent': soma(1)},\n",
       " 'nseg': 7,\n",
       " 'Ra': 100.0,\n",
       " 'cm': [1.0, 1.0, 1.0, 1.0, 1.0, 1.0, 1.0],\n",
       " 'regions': set(),\n",
       " 'species': set(),\n",
       " 'name': 'dend1_1',\n",
       " 'hoc_internal_name': '__nrnsec_0x7fca1a3e2000',\n",
       " 'cell': None}"
      ]
     },
     "execution_count": 8,
     "metadata": {},
     "output_type": "execute_result"
    }
   ],
   "source": [
    "cell.dends[0].psection()"
   ]
  },
  {
   "cell_type": "markdown",
   "metadata": {
    "slideshow": {
     "slide_type": "slide"
    }
   },
   "source": [
    "Here we load a session file for the virtual current clamp experiment:"
   ]
  },
  {
   "cell_type": "code",
   "execution_count": 9,
   "metadata": {},
   "outputs": [
    {
     "data": {
      "text/plain": [
       "1.0"
      ]
     },
     "execution_count": 9,
     "metadata": {},
     "output_type": "execute_result"
    }
   ],
   "source": [
    "h.xopen(\"iclamp.ses\")"
   ]
  },
  {
   "cell_type": "markdown",
   "metadata": {
    "slideshow": {
     "slide_type": "slide"
    }
   },
   "source": [
    "Loading this session embeds a current clamp electrode `h.IClamp[0]`, whose parameters are:"
   ]
  },
  {
   "cell_type": "code",
   "execution_count": 12,
   "metadata": {},
   "outputs": [
    {
     "name": "stdout",
     "output_type": "stream",
     "text": [
      "Activation onset = 0.0 ms\n",
      "Duration = 0.0 ms\n",
      "Amplitude = 0.0 nA\n"
     ]
    }
   ],
   "source": [
    "print('Activation onset = {} ms\\nDuration = {} ms\\nAmplitude = {} nA'.format(\n",
    "        h.IClamp[0].delay, h.IClamp[0].dur, h.IClamp[0].amp))\n",
    "\n"
   ]
  },
  {
   "cell_type": "markdown",
   "metadata": {
    "slideshow": {
     "slide_type": "slide"
    }
   },
   "source": [
    "You can control the location and parameters via the \"PointProcessManager\" window. Now let's run simulation while recording the membrane potential at soma."
   ]
  },
  {
   "cell_type": "code",
   "execution_count": 11,
   "metadata": {},
   "outputs": [
    {
     "data": {
      "text/plain": [
       "[<matplotlib.lines.Line2D at 0x10fead050>]"
      ]
     },
     "execution_count": 11,
     "metadata": {},
     "output_type": "execute_result"
    },
    {
     "data": {
      "image/png": "[encoded data removed]",
      "text/plain": [
       "<Figure size 640x480 with 1 Axes>"
      ]
     },
     "metadata": {},
     "output_type": "display_data"
    }
   ],
   "source": [
    "def run(tstop=300):\n",
    "    \"\"\"runs a simulation and returns the membrane potential recording at the soma.\"\"\"\n",
    "    dt = 0.1 # Again we use 10kHz sampling rate, e.g. 0.1 ms interval\n",
    "    vrec = h.Vector() # The recording will be save in this vector\n",
    "    vrec.record(cell.soma(0.5)._ref_v, dt)\n",
    "    \n",
    "    h.v_init = -75\n",
    "    \n",
    "    h.tstop = tstop  # Set how long the simulation will run.\n",
    "    h.init()\n",
    "    h.run()\n",
    "    \n",
    "    return vrec.c() # Should return a copy of the vector\n",
    "\n",
    "vrec = run()\n",
    "t = np.arange(vrec.size())*0.1\n",
    "plt.plot(t, vrec)"
   ]
  },
  {
   "cell_type": "markdown",
   "metadata": {
    "slideshow": {
     "slide_type": "slide"
    }
   },
   "source": [
    "Let's collect multiple recordings in a list and also make a note about where the electrode was. First, we prepare two empty lists, one for voltage recordings and the other for electrode-to-soma distance:"
   ]
  },
  {
   "cell_type": "code",
   "execution_count": 13,
   "metadata": {},
   "outputs": [
    {
     "data": {
      "text/plain": [
       "0.0"
      ]
     },
     "execution_count": 13,
     "metadata": {},
     "output_type": "execute_result"
    }
   ],
   "source": [
    "# Reset lists\n",
    "vrecs = []\n",
    "distances = []\n",
    "\n",
    "# Set the origin to cell.soma(0) \n",
    "# See https://www.neuron.yale.edu/neuron/static/py_doc/modelspec/programmatic/topology/geometry.html#distance\n",
    "h.distance(sec=cell.soma)"
   ]
  },
  {
   "cell_type": "code",
   "execution_count": 14,
   "metadata": {
    "slideshow": {
     "slide_type": "subslide"
    }
   },
   "outputs": [
    {
     "name": "stdout",
     "output_type": "stream",
     "text": [
      "Number of simulations ran = 1 , Distance =  118.53142066284826 um\n"
     ]
    }
   ],
   "source": [
    "result = run()\n",
    "vrecs.append(result)\n",
    "\n",
    "# Measure a distance to the origin from the electrode\n",
    "distances.append(\n",
    "    h.distance(h.IClamp[0].get_segment())\n",
    ") \n",
    "print(\"Number of simulations ran =\", len(vrecs), \n",
    "     \", Distance = \", h.distance(h.IClamp[0].get_segment()), \"um\")"
   ]
  },
  {
   "cell_type": "code",
   "execution_count": 15,
   "metadata": {
    "slideshow": {
     "slide_type": "subslide"
    }
   },
   "outputs": [
    {
     "data": {
      "text/plain": [
       "[Text(0.5, 0, 'time (ms)'), Text(0, 0.5, 'Voltage (mV)')]"
      ]
     },
     "execution_count": 15,
     "metadata": {},
     "output_type": "execute_result"
    },
    {
     "data": {
      "image/png": "[encoded data removed]",
      "text/plain": [
       "<Figure size 640x480 with 1 Axes>"
      ]
     },
     "metadata": {},
     "output_type": "display_data"
    },
    {
     "ename": "",
     "evalue": "",
     "output_type": "error",
     "traceback": [
      "\u001b[1;31mThe Kernel crashed while executing code in the the current cell or a previous cell. Please review the code in the cell(s) to identify a possible cause of the failure. Click <a href='https://aka.ms/vscodeJupyterKernelCrash'>here</a> for more info. View Jupyter <a href='command:jupyter.viewOutput'>log</a> for further details."
     ]
    }
   ],
   "source": [
    "fig,ax = plt.subplots()\n",
    "\n",
    "t = np.arange(3000)*0.1 # Remember that we use 10kHz for a sampling rate\n",
    "for v in vrecs:\n",
    "    ax.plot(t, v)\n",
    "ax.legend(distances)\n",
    "ax.set(xlabel='time (ms)', ylabel='Voltage (mV)')"
   ]
  },
  {
   "cell_type": "markdown",
   "metadata": {
    "slideshow": {
     "slide_type": "slide"
    }
   },
   "source": [
    "## * How to locate and move point processes\n",
    "\n",
    "### 1. How to find out the electrode location\n",
    "\n",
    "`PointProcess.get_segment()` returns the segment that a point process is located.\n",
    "\n"
   ]
  },
  {
   "cell_type": "code",
   "execution_count": 28,
   "metadata": {},
   "outputs": [
    {
     "data": {
      "text/plain": [
       "dend3_11(0.5)"
      ]
     },
     "execution_count": 28,
     "metadata": {},
     "output_type": "execute_result"
    }
   ],
   "source": [
    "sec = h.IClamp[0].get_segment()\n",
    "sec"
   ]
  },
  {
   "cell_type": "markdown",
   "metadata": {
    "slideshow": {
     "slide_type": "slide"
    }
   },
   "source": [
    "Now we can measure the distance between any section(0) to this electrode using `h.distance`. For example,"
   ]
  },
  {
   "cell_type": "code",
   "execution_count": 29,
   "metadata": {},
   "outputs": [
    {
     "data": {
      "text/plain": [
       "35.49267548868248"
      ]
     },
     "execution_count": 29,
     "metadata": {},
     "output_type": "execute_result"
    }
   ],
   "source": [
    "h.distance(sec=cell.soma) # Set an origin to cell.soma(0)\n",
    "h.distance(h.IClamp[0].get_segment()) # Measure a distance to the origin from the electrode"
   ]
  },
  {
   "cell_type": "markdown",
   "metadata": {
    "slideshow": {
     "slide_type": "slide"
    }
   },
   "source": [
    "### 2. How to find and get a particular section/segment\n",
    "\n",
    "Here's how find all sections and segments in our `cell`:\n",
    "* `h.allsec()` yields an iterator to go through all the sections in a model,\n",
    "* Given a section, say `sec`, `sec.allseg()` yields an iterator for all segments in `sec`,\n",
    "* If we know a particular location in terms of the relative coordinate `x`, we can use `sec(x)`,"
   ]
  },
  {
   "cell_type": "markdown",
   "metadata": {
    "slideshow": {
     "slide_type": "slide"
    }
   },
   "source": [
    "Here is an example of going through all segments in a model with showing their distance to the soma:"
   ]
  },
  {
   "cell_type": "code",
   "execution_count": 30,
   "metadata": {
    "slideshow": {
     "slide_type": "slide"
    }
   },
   "outputs": [
    {
     "name": "stdout",
     "output_type": "stream",
     "text": [
      "segment , distance\n",
      "dend1_1(0.0) , 9.266039848327637\n",
      "dend1_1(0.07142857142857142) , 9.568883488604104\n",
      "dend1_1(0.21428571428571427) , 10.17457076915704\n",
      "dend1_1(0.35714285714285715) , 10.780258049709976\n",
      "dend1_1(0.5) , 11.385945330262912\n",
      "dend1_1(0.6428571428571429) , 11.991632610815849\n",
      "dend1_1(0.7857142857142857) , 12.597319891368784\n",
      "dend1_1(0.9285714285714286) , 13.203007171921719\n",
      "dend1_1(1.0) , 13.505850812198187\n",
      "dend1_11(0.0) , 13.505850812198187\n",
      "dend1_11(0.07142857142857142) , 14.081184123631715\n",
      "dend1_11(0.21428571428571427) , 15.23185074649877\n",
      "dend1_11(0.35714285714285715) , 16.382517369365825\n",
      "dend1_11(0.5) , 17.53318399223288\n",
      "dend1_11(0.6428571428571429) , 18.683850615099935\n",
      "dend1_11(0.7857142857142857) , 19.83451723796699\n",
      "dend1_11(0.9285714285714286) , 20.98518386083404\n",
      "dend1_11(1.0) , 21.56051717226757\n",
      "dend1_111(0.0) , 21.56051717226757\n",
      "dend1_111(0.07142857142857142) , 22.27148950377046\n",
      "dend1_111(0.21428571428571427) , 23.693434166776242\n",
      "dend1_111(0.35714285714285715) , 25.115378829782024\n",
      "dend1_111(0.5) , 26.537323492787806\n",
      "dend1_111(0.6428571428571429) , 27.959268155793588\n",
      "dend1_111(0.7857142857142857) , 29.38121281879937\n",
      "dend1_111(0.9285714285714286) , 30.80315748180515\n",
      "dend1_111(1.0) , 31.514129813308042\n",
      "dend1_1111(0.0) , 31.514129813308042\n",
      "dend1_1111(0.07142857142857142) , 38.935189764054186\n",
      "dend1_1111(0.21428571428571427) , 53.777309665546476\n",
      "dend1_1111(0.35714285714285715) , 68.61942956703876\n",
      "dend1_1111(0.5) , 83.46154946853105\n",
      "dend1_1111(0.6428571428571429) , 98.30366937002333\n",
      "dend1_1111(0.7857142857142857) , 113.14578927151561\n",
      "dend1_1111(0.9285714285714286) , 127.98790917300789\n",
      "dend1_1111(1.0) , 135.40896912375405\n",
      "dend1_1112(0.0) , 31.514129813308042\n",
      "dend1_1112(0.07142857142857142) , 39.22183916649749\n",
      "dend1_1112(0.21428571428571427) , 54.6372578728764\n",
      "dend1_1112(0.35714285714285715) , 70.05267657925529\n",
      "dend1_1112(0.5) , 85.4680952856342\n",
      "dend1_1112(0.6428571428571429) , 100.88351399201309\n",
      "dend1_1112(0.7857142857142857) , 116.29893269839198\n",
      "dend1_1112(0.9285714285714286) , 131.7143514047709\n",
      "dend1_1112(1.0) , 139.42206075796034\n",
      "dend1_112(0.0) , 21.56051717226757\n",
      "dend1_112(0.07142857142857142) , 22.273465549864582\n",
      "dend1_112(0.21428571428571427) , 23.6993623050586\n",
      "dend1_112(0.35714285714285715) , 25.12525906025262\n",
      "dend1_112(0.5) , 26.55115581544664\n",
      "dend1_112(0.6428571428571429) , 27.97705257064066\n",
      "dend1_112(0.7857142857142857) , 29.40294932583468\n",
      "dend1_112(0.9285714285714286) , 30.828846081028697\n",
      "dend1_112(1.0) , 31.54179445862571\n",
      "dend1_1121(0.0) , 31.54179445862571\n",
      "dend1_1121(0.07142857142857142) , 38.15618241501564\n",
      "dend1_1121(0.21428571428571427) , 51.384958327795516\n",
      "dend1_1121(0.35714285714285715) , 64.61373424057538\n",
      "dend1_1121(0.5) , 77.84251015335525\n",
      "dend1_1121(0.6428571428571429) , 91.07128606613512\n",
      "dend1_1121(0.7857142857142857) , 104.30006197891498\n",
      "dend1_1121(0.9285714285714286) , 117.52883789169485\n",
      "dend1_1121(1.0) , 124.1432258480848\n",
      "dend1_1122(0.0) , 31.54179445862571\n",
      "dend1_1122(0.07142857142857142) , 39.43662399498763\n",
      "dend1_1122(0.21428571428571427) , 55.22628306771146\n",
      "dend1_1122(0.35714285714285715) , 71.0159421404353\n",
      "dend1_1122(0.5) , 86.80560121315912\n",
      "dend1_1122(0.6428571428571429) , 102.59526028588294\n",
      "dend1_1122(0.7857142857142857) , 118.38491935860677\n",
      "dend1_1122(0.9285714285714286) , 134.17457843133062\n",
      "dend1_1122(1.0) , 142.0694079676925\n",
      "dend1_12(0.0) , 13.505850812198187\n",
      "dend1_12(0.07142857142857142) , 14.146529589314557\n",
      "dend1_12(0.21428571428571427) , 15.427887143547299\n",
      "dend1_12(0.35714285714285715) , 16.70924469778004\n",
      "dend1_12(0.5) , 17.99060225201278\n",
      "dend1_12(0.6428571428571429) , 19.271959806245523\n",
      "dend1_12(0.7857142857142857) , 20.55331736047826\n",
      "dend1_12(0.9285714285714286) , 21.834674914711\n",
      "dend1_12(1.0) , 22.475353691827372\n",
      "dend1_121(0.0) , 22.475353691827372\n",
      "dend1_121(0.07142857142857142) , 24.34915305035748\n",
      "dend1_121(0.21428571428571427) , 28.096751767417693\n",
      "dend1_121(0.35714285714285715) , 31.844350484477907\n",
      "dend1_121(0.5) , 35.59194920153812\n",
      "dend1_121(0.6428571428571429) , 39.339547918598335\n",
      "dend1_121(0.7857142857142857) , 43.08714663565855\n",
      "dend1_121(0.9285714285714286) , 46.83474535271877\n",
      "dend1_121(1.0) , 48.70854471124888\n",
      "dend1_1211(0.0) , 48.70854471124888\n",
      "dend1_1211(0.07142857142857142) , 56.05516687981779\n",
      "dend1_1211(0.21428571428571427) , 70.74841121695563\n",
      "dend1_1211(0.35714285714285715) , 85.44165555409347\n",
      "dend1_1211(0.5) , 100.13489989123131\n",
      "dend1_1211(0.6428571428571429) , 114.82814422836917\n",
      "dend1_1211(0.7857142857142857) , 129.52138856550698\n",
      "dend1_1211(0.9285714285714286) , 144.21463290264484\n",
      "dend1_1211(1.0) , 151.56125507121374\n",
      "dend1_1212(0.0) , 48.70854471124888\n",
      "dend1_1212(0.07142857142857142) , 54.770984738472706\n",
      "dend1_1212(0.21428571428571427) , 66.89586479292039\n",
      "dend1_1212(0.35714285714285715) , 79.02074484736806\n",
      "dend1_1212(0.5) , 91.14562490181574\n",
      "dend1_1212(0.6428571428571429) , 103.27050495626342\n",
      "dend1_1212(0.7857142857142857) , 115.39538501071108\n",
      "dend1_1212(0.9285714285714286) , 127.52026506515877\n",
      "dend1_1212(1.0) , 133.58270509238258\n",
      "dend1_122(0.0) , 22.475353691827372\n",
      "dend1_122(0.07142857142857142) , 23.05125613380112\n",
      "dend1_122(0.21428571428571427) , 24.20306101774862\n",
      "dend1_122(0.35714285714285715) , 25.35486590169612\n",
      "dend1_122(0.5) , 26.506670785643617\n",
      "dend1_122(0.6428571428571429) , 27.658475669591116\n",
      "dend1_122(0.7857142857142857) , 28.81028055353861\n",
      "dend1_122(0.9285714285714286) , 29.96208543748611\n",
      "dend1_122(1.0) , 30.53798787945986\n",
      "dend1_1221(0.0) , 30.53798787945986\n",
      "dend1_1221(0.07142857142857142) , 37.68898151215696\n",
      "dend1_1221(0.21428571428571427) , 51.99096877755117\n",
      "dend1_1221(0.35714285714285715) , 66.29295604294538\n",
      "dend1_1221(0.5) , 80.59494330833958\n",
      "dend1_1221(0.6428571428571429) , 94.89693057373378\n",
      "dend1_1221(0.7857142857142857) , 109.19891783912797\n",
      "dend1_1221(0.9285714285714286) , 123.50090510452219\n",
      "dend1_1221(1.0) , 130.65189873721928\n",
      "dend1_1222(0.0) , 30.53798787945986\n",
      "dend1_1222(0.07142857142857142) , 32.00323242764131\n",
      "dend1_1222(0.21428571428571427) , 34.933721524004206\n",
      "dend1_1222(0.35714285714285715) , 37.8642106203671\n",
      "dend1_1222(0.5) , 40.79469971673\n",
      "dend1_1222(0.6428571428571429) , 43.7251888130929\n",
      "dend1_1222(0.7857142857142857) , 46.655677909455804\n",
      "dend1_1222(0.9285714285714286) , 49.586167005818695\n",
      "dend1_1222(1.0) , 51.05141155400015\n",
      "dend1_12221(0.0) , 51.05141155400015\n",
      "dend1_12221(0.07142857142857142) , 57.55192549521236\n",
      "dend1_12221(0.21428571428571427) , 70.5529533776368\n",
      "dend1_12221(0.35714285714285715) , 83.55398126006124\n",
      "dend1_12221(0.5) , 96.55500914248566\n",
      "dend1_12221(0.6428571428571429) , 109.5560370249101\n",
      "dend1_12221(0.7857142857142857) , 122.55706490733452\n",
      "dend1_12221(0.9285714285714286) , 135.55809278975897\n",
      "dend1_12221(1.0) , 142.05860673097115\n",
      "dend1_12222(0.0) , 51.05141155400015\n",
      "dend1_12222(0.07142857142857142) , 57.09016285924261\n",
      "dend1_12222(0.21428571428571427) , 69.16766546972752\n",
      "dend1_12222(0.35714285714285715) , 81.24516808021244\n",
      "dend1_12222(0.5) , 93.32267069069735\n",
      "dend1_12222(0.6428571428571429) , 105.40017330118228\n",
      "dend1_12222(0.7857142857142857) , 117.47767591166719\n",
      "dend1_12222(0.9285714285714286) , 129.55517852215212\n",
      "dend1_12222(1.0) , 135.59392982739456\n",
      "dend2_1(0.0) , 9.266039848327637\n",
      "dend2_1(0.07142857142857142) , 10.129226481311846\n",
      "dend2_1(0.21428571428571427) , 11.855599747280266\n",
      "dend2_1(0.35714285714285715) , 13.581973013248685\n",
      "dend2_1(0.5) , 15.308346279217103\n",
      "dend2_1(0.6428571428571429) , 17.034719545185524\n",
      "dend2_1(0.7857142857142857) , 18.76109281115394\n",
      "dend2_1(0.9285714285714286) , 20.48746607712236\n",
      "dend2_1(1.0) , 21.35065271010657\n",
      "dend2_11(0.0) , 21.35065271010657\n",
      "dend2_11(0.07142857142857142) , 22.185724452312336\n",
      "dend2_11(0.21428571428571427) , 23.855867936723865\n",
      "dend2_11(0.35714285714285715) , 25.526011421135397\n",
      "dend2_11(0.5) , 27.196154905546926\n",
      "dend2_11(0.6428571428571429) , 28.86629838995846\n",
      "dend2_11(0.7857142857142857) , 30.536441874369988\n",
      "dend2_11(0.9285714285714286) , 32.206585358781524\n",
      "dend2_11(1.0) , 33.04165710098729\n",
      "dend2_111(0.0) , 33.04165710098729\n",
      "dend2_111(0.07142857142857142) , 34.24716766274422\n",
      "dend2_111(0.21428571428571427) , 36.65818878625808\n",
      "dend2_111(0.35714285714285715) , 39.06920990977195\n",
      "dend2_111(0.5) , 41.48023103328582\n",
      "dend2_111(0.6428571428571429) , 43.89125215679968\n",
      "dend2_111(0.7857142857142857) , 46.30227328031354\n",
      "dend2_111(0.9285714285714286) , 48.71329440382741\n",
      "dend2_111(1.0) , 49.91880496558434\n",
      "dend2_1111(0.0) , 49.91880496558434\n",
      "dend2_1111(0.07142857142857142) , 56.06220510372185\n",
      "dend2_1111(0.21428571428571427) , 68.34900537999687\n",
      "dend2_1111(0.35714285714285715) , 80.6358056562719\n",
      "dend2_1111(0.5) , 92.92260593254693\n",
      "dend2_1111(0.6428571428571429) , 105.20940620882195\n",
      "dend2_1111(0.7857142857142857) , 117.49620648509696\n",
      "dend2_1111(0.9285714285714286) , 129.783006761372\n",
      "dend2_1111(1.0) , 135.92640689950952\n",
      "dend2_1112(0.0) , 49.91880496558434\n",
      "dend2_1112(0.07142857142857142) , 60.76569928167656\n",
      "dend2_1112(0.21428571428571427) , 82.459487913861\n",
      "dend2_1112(0.35714285714285715) , 104.15327654604545\n",
      "dend2_1112(0.5) , 125.84706517822988\n",
      "dend2_1112(0.6428571428571429) , 147.54085381041432\n",
      "dend2_1112(0.7857142857142857) , 169.23464244259875\n",
      "dend2_1112(0.9285714285714286) , 190.9284310747832\n",
      "dend2_1112(1.0) , 201.7753253908754\n",
      "dend2_112(0.0) , 33.04165710098729\n",
      "dend2_112(0.07142857142857142) , 34.64302797156958\n",
      "dend2_112(0.21428571428571427) , 37.84576971273418\n",
      "dend2_112(0.35714285714285715) , 41.04851145389878\n",
      "dend2_112(0.5) , 44.25125319506337\n",
      "dend2_112(0.6428571428571429) , 47.45399493622797\n",
      "dend2_112(0.7857142857142857) , 50.65673667739257\n",
      "dend2_112(0.9285714285714286) , 53.85947841855716\n",
      "dend2_112(1.0) , 55.46084928913946\n",
      "dend2_1121(0.0) , 55.46084928913946\n",
      "dend2_1121(0.07142857142857142) , 60.9635450863822\n",
      "dend2_1121(0.21428571428571427) , 71.96893668086769\n",
      "dend2_1121(0.35714285714285715) , 82.97432827535317\n",
      "dend2_1121(0.5) , 93.97971986983866\n",
      "dend2_1121(0.6428571428571429) , 104.98511146432415\n",
      "dend2_1121(0.7857142857142857) , 115.99050305880964\n",
      "dend2_1121(0.9285714285714286) , 126.99589465329512\n",
      "dend2_1121(1.0) , 132.49859045053785\n",
      "dend2_1122(0.0) , 55.46084928913946\n",
      "dend2_1122(0.07142857142857142) , 61.92897565367548\n",
      "dend2_1122(0.21428571428571427) , 74.86522838274753\n",
      "dend2_1122(0.35714285714285715) , 87.80148111181958\n",
      "dend2_1122(0.5) , 100.73773384089164\n",
      "dend2_1122(0.6428571428571429) , 113.67398656996369\n",
      "dend2_1122(0.7857142857142857) , 126.61023929903573\n",
      "dend2_1122(0.9285714285714286) , 139.54649202810776\n",
      "dend2_1122(1.0) , 146.0146183926438\n",
      "dend2_12(0.0) , 21.35065271010657\n",
      "dend2_12(0.07142857142857142) , 23.364923598991396\n",
      "dend2_12(0.21428571428571427) , 27.393465376761053\n",
      "dend2_12(0.35714285714285715) , 31.42200715453071\n",
      "dend2_12(0.5) , 35.450548932300364\n",
      "dend2_12(0.6428571428571429) , 39.479090710070025\n",
      "dend2_12(0.7857142857142857) , 43.50763248783967\n",
      "dend2_12(0.9285714285714286) , 47.53617426560933\n",
      "dend2_12(1.0) , 49.550445154494156\n",
      "dend2_121(0.0) , 49.550445154494156\n",
      "dend2_121(0.07142857142857142) , 50.94028093057574\n",
      "dend2_121(0.21428571428571427) , 53.719952482738904\n",
      "dend2_121(0.35714285714285715) , 56.49962403490207\n",
      "dend2_121(0.5) , 59.27929558706522\n",
      "dend2_121(0.6428571428571429) , 62.058967139228386\n",
      "dend2_121(0.7857142857142857) , 64.83863869139155\n",
      "dend2_121(0.9285714285714286) , 67.61831024355472\n",
      "dend2_121(1.0) , 69.0081460196363\n",
      "dend2_1211(0.0) , 69.0081460196363\n",
      "dend2_1211(0.07142857142857142) , 70.70836337824619\n",
      "dend2_1211(0.21428571428571427) , 74.10879809546597\n",
      "dend2_1211(0.35714285714285715) , 77.50923281268575\n",
      "dend2_1211(0.5) , 80.90966752990553\n",
      "dend2_1211(0.6428571428571429) , 84.31010224712531\n",
      "dend2_1211(0.7857142857142857) , 87.7105369643451\n",
      "dend2_1211(0.9285714285714286) , 91.11097168156488\n",
      "dend2_1211(1.0) , 92.81118904017475\n",
      "dend2_12111(0.0) , 92.81118904017475\n",
      "dend2_12111(0.07142857142857142) , 98.96923258906673\n",
      "dend2_12111(0.21428571428571427) , 111.28531968685067\n",
      "dend2_12111(0.35714285714285715) , 123.6014067846346\n",
      "dend2_12111(0.5) , 135.91749388241854\n",
      "dend2_12111(0.6428571428571429) , 148.23358098020248\n",
      "dend2_12111(0.7857142857142857) , 160.5496680779864\n",
      "dend2_12111(0.9285714285714286) , 172.86575517577037\n",
      "dend2_12111(1.0) , 179.02379872466233\n",
      "dend2_121111(0.0) , 179.02379872466233\n",
      "dend2_121111(0.07142857142857142) , 186.0412915170648\n",
      "dend2_121111(0.21428571428571427) , 200.07627710186972\n",
      "dend2_121111(0.35714285714285715) , 214.11126268667462\n",
      "dend2_121111(0.5) , 228.14624827147955\n",
      "dend2_121111(0.6428571428571429) , 242.18123385628445\n",
      "dend2_121111(0.7857142857142857) , 256.2162194410894\n",
      "dend2_121111(0.9285714285714286) , 270.25120502589425\n",
      "dend2_121111(1.0) , 277.26869781829674\n",
      "dend2_121112(0.0) , 179.02379872466233\n",
      "dend2_121112(0.07142857142857142) , 183.84747039344165\n",
      "dend2_121112(0.21428571428571427) , 193.4948137310003\n",
      "dend2_121112(0.35714285714285715) , 203.14215706855893\n",
      "dend2_121112(0.5) , 212.78950040611758\n",
      "dend2_121112(0.6428571428571429) , 222.43684374367623\n",
      "dend2_121112(0.7857142857142857) , 232.08418708123486\n",
      "dend2_121112(0.9285714285714286) , 241.7315304187935\n",
      "dend2_121112(1.0) , 246.55520208757284\n",
      "dend2_12112(0.0) , 92.81118904017475\n",
      "dend2_12112(0.07142857142857142) , 93.39371235821517\n",
      "dend2_12112(0.21428571428571427) , 94.55875899429594\n",
      "dend2_12112(0.35714285714285715) , 95.72380563037672\n",
      "dend2_12112(0.5) , 96.88885226645752\n",
      "dend2_12112(0.6428571428571429) , 98.0538989025383\n",
      "dend2_12112(0.7857142857142857) , 99.2189455386191\n",
      "dend2_12112(0.9285714285714286) , 100.38399217469987\n",
      "dend2_12112(1.0) , 100.96651549274026\n",
      "dend2_121121(0.0) , 100.96651549274026\n",
      "dend2_121121(0.07142857142857142) , 107.37157249827737\n",
      "dend2_121121(0.21428571428571427) , 120.18168650935164\n",
      "dend2_121121(0.35714285714285715) , 132.99180052042587\n",
      "dend2_121121(0.5) , 145.8019145315001\n",
      "dend2_121121(0.6428571428571429) , 158.61202854257436\n",
      "dend2_121121(0.7857142857142857) , 171.4221425536486\n",
      "dend2_121121(0.9285714285714286) , 184.23225656472283\n",
      "dend2_121121(1.0) , 190.63731357025995\n",
      "dend2_1211211(0.0) , 190.63731357025995\n",
      "dend2_1211211(0.07142857142857142) , 194.51972879615667\n",
      "dend2_1211211(0.21428571428571427) , 202.28455924795009\n",
      "dend2_1211211(0.35714285714285715) , 210.04938969974353\n",
      "dend2_1211211(0.5) , 217.81422015153697\n",
      "dend2_1211211(0.6428571428571429) , 225.57905060333042\n",
      "dend2_1211211(0.7857142857142857) , 233.34388105512386\n",
      "dend2_1211211(0.9285714285714286) , 241.1087115069173\n",
      "dend2_1211211(1.0) , 244.99112673281402\n",
      "dend2_1211212(0.0) , 190.63731357025995\n",
      "dend2_1211212(0.07142857142857142) , 192.8264543055951\n",
      "dend2_1211212(0.21428571428571427) , 197.20473577626538\n",
      "dend2_1211212(0.35714285714285715) , 201.58301724693567\n",
      "dend2_1211212(0.5) , 205.96129871760596\n",
      "dend2_1211212(0.6428571428571429) , 210.33958018827624\n",
      "dend2_1211212(0.7857142857142857) , 214.71786165894653\n",
      "dend2_1211212(0.9285714285714286) , 219.09614312961682\n",
      "dend2_1211212(1.0) , 221.28528386495196\n",
      "dend2_12112121(0.0) , 221.28528386495196\n",
      "dend2_12112121(0.07142857142857142) , 225.79126146237127\n",
      "dend2_12112121(0.21428571428571427) , 234.80321665720987\n",
      "dend2_12112121(0.35714285714285715) , 243.81517185204848\n",
      "dend2_12112121(0.5) , 252.82712704688709\n",
      "dend2_12112121(0.6428571428571429) , 261.8390822417257\n",
      "dend2_12112121(0.7857142857142857) , 270.8510374365643\n",
      "dend2_12112121(0.9285714285714286) , 279.8629926314029\n",
      "dend2_12112121(1.0) , 284.3689702288222\n",
      "dend2_12112122(0.0) , 221.28528386495196\n",
      "dend2_12112122(0.07142857142857142) , 228.6964888429184\n",
      "dend2_12112122(0.21428571428571427) , 243.51889879885127\n",
      "dend2_12112122(0.35714285714285715) , 258.3413087547841\n",
      "dend2_12112122(0.5) , 273.163718710717\n",
      "dend2_12112122(0.6428571428571429) , 287.98612866664985\n",
      "dend2_12112122(0.7857142857142857) , 302.8085386225827\n",
      "dend2_12112122(0.9285714285714286) , 317.6309485785156\n",
      "dend2_12112122(1.0) , 325.042153556482\n",
      "dend2_121122(0.0) , 100.96651549274026\n",
      "dend2_121122(0.07142857142857142) , 105.74297599581502\n",
      "dend2_121122(0.21428571428571427) , 115.29589700196456\n",
      "dend2_121122(0.35714285714285715) , 124.84881800811408\n",
      "dend2_121122(0.5) , 134.4017390142636\n",
      "dend2_121122(0.6428571428571429) , 143.95466002041314\n",
      "dend2_121122(0.7857142857142857) , 153.50758102656266\n",
      "dend2_121122(0.9285714285714286) , 163.06050203271218\n",
      "dend2_121122(1.0) , 167.83696253578694\n",
      "dend2_1212(0.0) , 69.0081460196363\n",
      "dend2_1212(0.07142857142857142) , 76.08289954009514\n",
      "dend2_1212(0.21428571428571427) , 90.23240658101284\n",
      "dend2_1212(0.35714285714285715) , 104.38191362193055\n",
      "dend2_1212(0.5) , 118.53142066284826\n",
      "dend2_1212(0.6428571428571429) , 132.68092770376595\n",
      "dend2_1212(0.7857142857142857) , 146.83043474468366\n",
      "dend2_1212(0.9285714285714286) , 160.97994178560137\n",
      "dend2_1212(1.0) , 168.0546953060602\n",
      "dend2_12121(0.0) , 168.0546953060602\n",
      "dend2_12121(0.07142857142857142) , 168.73398992810866\n",
      "dend2_12121(0.21428571428571427) , 170.0925791722056\n",
      "dend2_12121(0.35714285714285715) , 171.45116841630252\n",
      "dend2_12121(0.5) , 172.80975766039947\n",
      "dend2_12121(0.6428571428571429) , 174.1683469044964\n",
      "dend2_12121(0.7857142857142857) , 175.5269361485933\n",
      "dend2_12121(0.9285714285714286) , 176.88552539269025\n",
      "dend2_12121(1.0) , 177.5648200147387\n",
      "dend2_121211(0.0) , 177.5648200147387\n",
      "dend2_121211(0.07142857142857142) , 184.1572175421412\n",
      "dend2_121211(0.21428571428571427) , 197.34201259694618\n",
      "dend2_121211(0.35714285714285715) , 210.52680765175114\n",
      "dend2_121211(0.5) , 223.7116027065561\n",
      "dend2_121211(0.6428571428571429) , 236.8963977613611\n",
      "dend2_121211(0.7857142857142857) , 250.0811928161661\n",
      "dend2_121211(0.9285714285714286) , 263.26598787097106\n",
      "dend2_121211(1.0) , 269.8583853983735\n",
      "dend2_121212(0.0) , 177.5648200147387\n",
      "dend2_121212(0.07142857142857142) , 183.2539758911217\n",
      "dend2_121212(0.21428571428571427) , 194.6322876438877\n",
      "dend2_121212(0.35714285714285715) , 206.01059939665367\n",
      "dend2_121212(0.5) , 217.38891114941967\n",
      "dend2_121212(0.6428571428571429) , 228.76722290218567\n",
      "dend2_121212(0.7857142857142857) , 240.14553465495163\n",
      "dend2_121212(0.9285714285714286) , 251.52384640771766\n",
      "dend2_121212(1.0) , 257.21300228410064\n",
      "dend2_12122(0.0) , 168.0546953060602\n",
      "dend2_12122(0.07142857142857142) , 173.87197512790533\n",
      "dend2_12122(0.21428571428571427) , 185.5065347715956\n",
      "dend2_12122(0.35714285714285715) , 197.14109441528583\n",
      "dend2_12122(0.5) , 208.7756540589761\n",
      "dend2_12122(0.6428571428571429) , 220.41021370266634\n",
      "dend2_12122(0.7857142857142857) , 232.04477334635658\n",
      "dend2_12122(0.9285714285714286) , 243.67933299004687\n",
      "dend2_12122(1.0) , 249.49661281189196\n",
      "dend2_122(0.0) , 49.550445154494156\n",
      "dend2_122(0.07142857142857142) , 51.08395013593801\n",
      "dend2_122(0.21428571428571427) , 54.150960098825706\n",
      "dend2_122(0.35714285714285715) , 57.2179700617134\n",
      "dend2_122(0.5) , 60.2849800246011\n",
      "dend2_122(0.6428571428571429) , 63.35198998748879\n",
      "dend2_122(0.7857142857142857) , 66.41899995037649\n",
      "dend2_122(0.9285714285714286) , 69.48600991326418\n",
      "dend2_122(1.0) , 71.01951489470802\n",
      "dend2_1221(0.0) , 71.01951489470802\n",
      "dend2_1221(0.07142857142857142) , 73.62423299064935\n",
      "dend2_1221(0.21428571428571427) , 78.83366918253198\n",
      "dend2_1221(0.35714285714285715) , 84.04310537441462\n",
      "dend2_1221(0.5) , 89.25254156629725\n",
      "dend2_1221(0.6428571428571429) , 94.4619777581799\n",
      "dend2_1221(0.7857142857142857) , 99.67141395006253\n",
      "dend2_1221(0.9285714285714286) , 104.88085014194516\n",
      "dend2_1221(1.0) , 107.48556823788648\n",
      "dend2_12211(0.0) , 107.48556823788648\n",
      "dend2_12211(0.07142857142857142) , 109.76453764735922\n",
      "dend2_12211(0.21428571428571427) , 114.32247646630466\n",
      "dend2_12211(0.35714285714285715) , 118.88041528525014\n",
      "dend2_12211(0.5) , 123.43835410419558\n",
      "dend2_12211(0.6428571428571429) , 127.99629292314106\n",
      "dend2_12211(0.7857142857142857) , 132.55423174208653\n",
      "dend2_12211(0.9285714285714286) , 137.11217056103197\n",
      "dend2_12211(1.0) , 139.39113997050472\n",
      "dend2_12212(0.0) , 107.48556823788648\n",
      "dend2_12212(0.07142857142857142) , 110.58448957783892\n",
      "dend2_12212(0.21428571428571427) , 116.78233225774378\n",
      "dend2_12212(0.35714285714285715) , 122.98017493764863\n",
      "dend2_12212(0.5) , 129.1780176175535\n",
      "dend2_12212(0.6428571428571429) , 135.37586029745836\n",
      "dend2_12212(0.7857142857142857) , 141.5737029773632\n",
      "dend2_12212(0.9285714285714286) , 147.7715456572681\n",
      "dend2_12212(1.0) , 150.87046699722052\n",
      "dend2_1222(0.0) , 71.01951489470802\n",
      "dend2_1222(0.07142857142857142) , 78.50707410417243\n",
      "dend2_1222(0.21428571428571427) , 93.48219252310125\n",
      "dend2_1222(0.35714285714285715) , 108.45731094203005\n",
      "dend2_1222(0.5) , 123.43242936095885\n",
      "dend2_1222(0.6428571428571429) , 138.40754777988766\n",
      "dend2_1222(0.7857142857142857) , 153.38266619881645\n",
      "dend2_1222(0.9285714285714286) , 168.35778461774527\n",
      "dend2_1222(1.0) , 175.84534382720966\n",
      "dend2_12221(0.0) , 175.84534382720966\n",
      "dend2_12221(0.07142857142857142) , 180.20965359211314\n",
      "dend2_12221(0.21428571428571427) , 188.93827312192008\n",
      "dend2_12221(0.35714285714285715) , 197.666892651727\n",
      "dend2_12221(0.5) , 206.39551218153397\n",
      "dend2_12221(0.6428571428571429) , 215.12413171134088\n",
      "dend2_12221(0.7857142857142857) , 223.85275124114784\n",
      "dend2_12221(0.9285714285714286) , 232.58137077095475\n",
      "dend2_12221(1.0) , 236.94568053585826\n",
      "dend2_12222(0.0) , 175.84534382720966\n",
      "dend2_12222(0.07142857142857142) , 182.3956509653027\n",
      "dend2_12222(0.21428571428571427) , 195.49626524148877\n",
      "dend2_12222(0.35714285714285715) , 208.59687951767486\n",
      "dend2_12222(0.5) , 221.69749379386096\n",
      "dend2_12222(0.6428571428571429) , 234.79810807004705\n",
      "dend2_12222(0.7857142857142857) , 247.89872234623314\n",
      "dend2_12222(0.9285714285714286) , 260.99933662241926\n",
      "dend2_12222(1.0) , 267.54964376051225\n",
      "dend3_1(0.0) , 9.266039848327637\n",
      "dend3_1(0.07142857142857142) , 10.057039129138325\n",
      "dend3_1(0.21428571428571427) , 11.639037690759702\n",
      "dend3_1(0.35714285714285715) , 13.22103625238108\n",
      "dend3_1(0.5) , 14.803034814002455\n",
      "dend3_1(0.6428571428571429) , 16.385033375623834\n",
      "dend3_1(0.7857142857142857) , 17.96703193724521\n",
      "dend3_1(0.9285714285714286) , 19.549030498866586\n",
      "dend3_1(1.0) , 20.340029779677273\n",
      "dend3_11(0.0) , 20.340029779677273\n",
      "dend3_11(0.07142857142857142) , 22.504693452392303\n",
      "dend3_11(0.21428571428571427) , 26.83402079782236\n",
      "dend3_11(0.35714285714285715) , 31.163348143252424\n",
      "dend3_11(0.5) , 35.49267548868248\n",
      "dend3_11(0.6428571428571429) , 39.822002834112546\n",
      "dend3_11(0.7857142857142857) , 44.151330179542605\n",
      "dend3_11(0.9285714285714286) , 48.48065752497266\n",
      "dend3_11(1.0) , 50.64532119768769\n",
      "dend3_111(0.0) , 50.64532119768769\n",
      "dend3_111(0.07142857142857142) , 53.08386762004097\n",
      "dend3_111(0.21428571428571427) , 57.96096046474752\n",
      "dend3_111(0.35714285714285715) , 62.838053309454075\n",
      "dend3_111(0.5) , 67.71514615416064\n",
      "dend3_111(0.6428571428571429) , 72.59223899886719\n",
      "dend3_111(0.7857142857142857) , 77.46933184357374\n",
      "dend3_111(0.9285714285714286) , 82.34642468828031\n",
      "dend3_111(1.0) , 84.78497111063358\n",
      "dend3_1111(0.0) , 84.78497111063358\n",
      "dend3_1111(0.07142857142857142) , 94.00502467237628\n",
      "dend3_1111(0.21428571428571427) , 112.44513179586166\n",
      "dend3_1111(0.35714285714285715) , 130.88523891934705\n",
      "dend3_1111(0.5) , 149.32534604283245\n",
      "dend3_1111(0.6428571428571429) , 167.76545316631783\n",
      "dend3_1111(0.7857142857142857) , 186.20556028980323\n",
      "dend3_1111(0.9285714285714286) , 204.64566741328863\n",
      "dend3_1111(1.0) , 213.8657209750313\n",
      "dend3_1112(0.0) , 84.78497111063358\n",
      "dend3_1112(0.07142857142857142) , 88.84445465787833\n",
      "dend3_1112(0.21428571428571427) , 96.96342175236785\n",
      "dend3_1112(0.35714285714285715) , 105.08238884685737\n",
      "dend3_1112(0.5) , 113.20135594134688\n",
      "dend3_1112(0.6428571428571429) , 121.3203230358364\n",
      "dend3_1112(0.7857142857142857) , 129.4392901303259\n",
      "dend3_1112(0.9285714285714286) , 137.5582572248154\n",
      "dend3_1112(1.0) , 141.61774077206016\n",
      "dend3_11121(0.0) , 141.61774077206016\n",
      "dend3_11121(0.07142857142857142) , 147.40276885073206\n",
      "dend3_11121(0.21428571428571427) , 158.9728250080759\n",
      "dend3_11121(0.35714285714285715) , 170.5428811654197\n",
      "dend3_11121(0.5) , 182.11293732276349\n",
      "dend3_11121(0.6428571428571429) , 193.6829934801073\n",
      "dend3_11121(0.7857142857142857) , 205.2530496374511\n",
      "dend3_11121(0.9285714285714286) , 216.8231057947949\n",
      "dend3_11121(1.0) , 222.6081338734668\n",
      "dend3_11122(0.0) , 141.61774077206016\n",
      "dend3_11122(0.07142857142857142) , 146.8946100794857\n",
      "dend3_11122(0.21428571428571427) , 157.44834869433677\n",
      "dend3_11122(0.35714285714285715) , 168.00208730918783\n",
      "dend3_11122(0.5) , 178.55582592403888\n",
      "dend3_11122(0.6428571428571429) , 189.10956453888994\n",
      "dend3_11122(0.7857142857142857) , 199.663303153741\n",
      "dend3_11122(0.9285714285714286) , 210.21704176859205\n",
      "dend3_11122(1.0) , 215.49391107601758\n",
      "dend3_112(0.0) , 50.64532119768769\n",
      "dend3_112(0.07142857142857142) , 51.109329529871175\n",
      "dend3_112(0.21428571428571427) , 52.03734619423813\n",
      "dend3_112(0.35714285714285715) , 52.9653628586051\n",
      "dend3_112(0.5) , 53.89337952297206\n",
      "dend3_112(0.6428571428571429) , 54.821396187339026\n",
      "dend3_112(0.7857142857142857) , 55.74941285170598\n",
      "dend3_112(0.9285714285714286) , 56.67742951607295\n",
      "dend3_112(1.0) , 57.14143784825643\n",
      "dend3_1121(0.0) , 57.14143784825643\n",
      "dend3_1121(0.07142857142857142) , 63.6188984080605\n",
      "dend3_1121(0.21428571428571427) , 76.57381952766865\n",
      "dend3_1121(0.35714285714285715) , 89.52874064727679\n",
      "dend3_1121(0.5) , 102.48366176688494\n",
      "dend3_1121(0.6428571428571429) , 115.4385828864931\n",
      "dend3_1121(0.7857142857142857) , 128.39350400610124\n",
      "dend3_1121(0.9285714285714286) , 141.34842512570935\n",
      "dend3_1121(1.0) , 147.82588568551344\n",
      "dend3_1122(0.0) , 57.14143784825643\n",
      "dend3_1122(0.07142857142857142) , 64.69503797313982\n",
      "dend3_1122(0.21428571428571427) , 79.80223822290661\n",
      "dend3_1122(0.35714285714285715) , 94.90943847267339\n",
      "dend3_1122(0.5) , 110.01663872244016\n",
      "dend3_1122(0.6428571428571429) , 125.12383897220694\n",
      "dend3_1122(0.7857142857142857) , 140.2310392219737\n",
      "dend3_1122(0.9285714285714286) , 155.3382394717405\n",
      "dend3_1122(1.0) , 162.8918395966239\n",
      "dend3_12(0.0) , 20.340029779677273\n",
      "dend3_12(0.07142857142857142) , 20.9501260279197\n",
      "dend3_12(0.21428571428571427) , 22.170318524404557\n",
      "dend3_12(0.35714285714285715) , 23.390511020889413\n",
      "dend3_12(0.5) , 24.61070351737427\n",
      "dend3_12(0.6428571428571429) , 25.830896013859125\n",
      "dend3_12(0.7857142857142857) , 27.05108851034398\n",
      "dend3_12(0.9285714285714286) , 28.271281006828836\n",
      "dend3_12(1.0) , 28.881377255071264\n",
      "dend3_121(0.0) , 28.881377255071264\n",
      "dend3_121(0.07142857142857142) , 29.44409808511187\n",
      "dend3_121(0.21428571428571427) , 30.56953974519309\n",
      "dend3_121(0.35714285714285715) , 31.694981405274305\n",
      "dend3_121(0.5) , 32.82042306535553\n",
      "dend3_121(0.6428571428571429) , 33.94586472543674\n",
      "dend3_121(0.7857142857142857) , 35.07130638551796\n",
      "dend3_121(0.9285714285714286) , 36.19674804559918\n",
      "dend3_121(1.0) , 36.75946887563978\n",
      "dend3_1211(0.0) , 36.75946887563978\n",
      "dend3_1211(0.07142857142857142) , 44.41659098172083\n",
      "dend3_1211(0.21428571428571427) , 59.73083519388292\n",
      "dend3_1211(0.35714285714285715) , 75.04507940604502\n",
      "dend3_1211(0.5) , 90.3593236182071\n",
      "dend3_1211(0.6428571428571429) , 105.67356783036921\n",
      "dend3_1211(0.7857142857142857) , 120.98781204253129\n",
      "dend3_1211(0.9285714285714286) , 136.30205625469338\n",
      "dend3_1211(1.0) , 143.95917836077442\n",
      "dend3_1212(0.0) , 36.75946887563978\n",
      "dend3_1212(0.07142857142857142) , 38.16466781971838\n",
      "dend3_1212(0.21428571428571427) , 40.975065707875586\n",
      "dend3_1212(0.35714285714285715) , 43.785463596032784\n",
      "dend3_1212(0.5) , 46.59586148418999\n",
      "dend3_1212(0.6428571428571429) , 49.40625937234719\n",
      "dend3_1212(0.7857142857142857) , 52.21665726050439\n",
      "dend3_1212(0.9285714285714286) , 55.027055148661596\n",
      "dend3_1212(1.0) , 56.43225409274019\n",
      "dend3_12121(0.0) , 56.43225409274019\n",
      "dend3_12121(0.07142857142857142) , 62.72230821275115\n",
      "dend3_12121(0.21428571428571427) , 75.3024164527731\n",
      "dend3_12121(0.35714285714285715) , 87.88252469279504\n",
      "dend3_12121(0.5) , 100.46263293281699\n",
      "dend3_12121(0.6428571428571429) , 113.04274117283893\n",
      "dend3_12121(0.7857142857142857) , 125.62284941286087\n",
      "dend3_12121(0.9285714285714286) , 138.20295765288282\n",
      "dend3_12121(1.0) , 144.49301177289377\n",
      "dend3_12122(0.0) , 56.43225409274019\n",
      "dend3_12122(0.07142857142857142) , 56.87180752756854\n",
      "dend3_12122(0.21428571428571427) , 57.75091439722526\n",
      "dend3_12122(0.35714285714285715) , 58.63002126688197\n",
      "dend3_12122(0.5) , 59.50912813653868\n",
      "dend3_12122(0.6428571428571429) , 60.388235006195394\n",
      "dend3_12122(0.7857142857142857) , 61.267341875852104\n",
      "dend3_12122(0.9285714285714286) , 62.14644874550881\n",
      "dend3_12122(1.0) , 62.58600218033717\n",
      "dend3_121221(0.0) , 62.58600218033717\n",
      "dend3_121221(0.07142857142857142) , 69.3241985597779\n",
      "dend3_121221(0.21428571428571427) , 82.80059131865934\n",
      "dend3_121221(0.35714285714285715) , 96.2769840775408\n",
      "dend3_121221(0.5) , 109.75337683642225\n",
      "dend3_121221(0.6428571428571429) , 123.2297695953037\n",
      "dend3_121221(0.7857142857142857) , 136.70616235418515\n",
      "dend3_121221(0.9285714285714286) , 150.18255511306657\n",
      "dend3_121221(1.0) , 156.9207514925073\n",
      "dend3_121222(0.0) , 62.58600218033717\n",
      "dend3_121222(0.07142857142857142) , 64.91521414749735\n",
      "dend3_121222(0.21428571428571427) , 69.5736380818177\n",
      "dend3_121222(0.35714285714285715) , 74.23206201613807\n",
      "dend3_121222(0.5) , 78.89048595045844\n",
      "dend3_121222(0.6428571428571429) , 83.54890988477881\n",
      "dend3_121222(0.7857142857142857) , 88.20733381909916\n",
      "dend3_121222(0.9285714285714286) , 92.86575775341953\n",
      "dend3_121222(1.0) , 95.19496972057972\n",
      "dend3_1212221(0.0) , 95.19496972057972\n",
      "dend3_1212221(0.07142857142857142) , 99.96869064857638\n",
      "dend3_1212221(0.21428571428571427) , 109.51613250456973\n",
      "dend3_1212221(0.35714285714285715) , 119.06357436056305\n",
      "dend3_1212221(0.5) , 128.61101621655638\n",
      "dend3_1212221(0.6428571428571429) , 138.1584580725497\n",
      "dend3_1212221(0.7857142857142857) , 147.70589992854306\n",
      "dend3_1212221(0.9285714285714286) , 157.2533417845364\n",
      "dend3_1212221(1.0) , 162.02706271253305\n",
      "dend3_1212222(0.0) , 95.19496972057972\n",
      "dend3_1212222(0.07142857142857142) , 97.59216377668155\n",
      "dend3_1212222(0.21428571428571427) , 102.3865518888852\n",
      "dend3_1212222(0.35714285714285715) , 107.18094000108884\n",
      "dend3_1212222(0.5) , 111.97532811329249\n",
      "dend3_1212222(0.6428571428571429) , 116.76971622549614\n",
      "dend3_1212222(0.7857142857142857) , 121.56410433769979\n",
      "dend3_1212222(0.9285714285714286) , 126.35849244990344\n",
      "dend3_1212222(1.0) , 128.75568650600525\n",
      "dend3_12122221(0.0) , 128.75568650600525\n",
      "dend3_12122221(0.07142857142857142) , 140.35247627483471\n",
      "dend3_12122221(0.21428571428571427) , 163.54605581249365\n",
      "dend3_12122221(0.35714285714285715) , 186.73963535015255\n",
      "dend3_12122221(0.5) , 209.9332148878115\n",
      "dend3_12122221(0.6428571428571429) , 233.12679442547042\n",
      "dend3_12122221(0.7857142857142857) , 256.3203739631293\n",
      "dend3_12122221(0.9285714285714286) , 279.51395350078826\n",
      "dend3_12122221(1.0) , 291.1107432696177\n",
      "dend3_12122222(0.0) , 128.75568650600525\n",
      "dend3_12122222(0.07142857142857142) , 131.6039339466039\n",
      "dend3_12122222(0.21428571428571427) , 137.30042882780108\n",
      "dend3_12122222(0.35714285714285715) , 142.9969237089983\n",
      "dend3_12122222(0.5) , 148.69341859019553\n",
      "dend3_12122222(0.6428571428571429) , 154.38991347139276\n",
      "dend3_12122222(0.7857142857142857) , 160.08640835258998\n",
      "dend3_12122222(0.9285714285714286) , 165.7829032337872\n",
      "dend3_12122222(1.0) , 168.63115067438582\n",
      "dend3_121222221(0.0) , 168.63115067438582\n",
      "dend3_121222221(0.07142857142857142) , 171.2394195672008\n",
      "dend3_121222221(0.21428571428571427) , 176.45595735283072\n",
      "dend3_121222221(0.35714285714285715) , 181.67249513846068\n",
      "dend3_121222221(0.5) , 186.8890329240906\n",
      "dend3_121222221(0.6428571428571429) , 192.10557070972052\n",
      "dend3_121222221(0.7857142857142857) , 197.32210849535048\n",
      "dend3_121222221(0.9285714285714286) , 202.5386462809804\n",
      "dend3_121222221(1.0) , 205.14691517379538\n",
      "dend3_1212222211(0.0) , 205.14691517379538\n",
      "dend3_1212222211(0.07142857142857142) , 206.3974444024883\n",
      "dend3_1212222211(0.21428571428571427) , 208.89850285987413\n",
      "dend3_1212222211(0.35714285714285715) , 211.39956131725995\n",
      "dend3_1212222211(0.5) , 213.90061977464578\n",
      "dend3_1212222211(0.6428571428571429) , 216.40167823203163\n",
      "dend3_1212222211(0.7857142857142857) , 218.90273668941745\n",
      "dend3_1212222211(0.9285714285714286) , 221.40379514680328\n",
      "dend3_1212222211(1.0) , 222.6543243754962\n",
      "dend3_12122222111(0.0) , 222.6543243754962\n",
      "dend3_12122222111(0.07142857142857142) , 223.48317142485405\n",
      "dend3_12122222111(0.21428571428571427) , 225.14086552356977\n",
      "dend3_12122222111(0.35714285714285715) , 226.79855962228552\n",
      "dend3_12122222111(0.5) , 228.45625372100122\n",
      "dend3_12122222111(0.6428571428571429) , 230.11394781971697\n",
      "dend3_12122222111(0.7857142857142857) , 231.7716419184327\n",
      "dend3_12122222111(0.9285714285714286) , 233.42933601714842\n",
      "dend3_12122222111(1.0) , 234.2581830665063\n",
      "dend3_12122222112(0.0) , 222.6543243754962\n",
      "dend3_12122222112(0.07142857142857142) , 225.68802026602404\n",
      "dend3_12122222112(0.21428571428571427) , 231.7554120470798\n",
      "dend3_12122222112(0.35714285714285715) , 237.82280382813553\n",
      "dend3_12122222112(0.5) , 243.89019560919127\n",
      "dend3_12122222112(0.6428571428571429) , 249.95758739024703\n",
      "dend3_12122222112(0.7857142857142857) , 256.0249791713028\n",
      "dend3_12122222112(0.9285714285714286) , 262.09237095235846\n",
      "dend3_12122222112(1.0) , 265.12606684288636\n",
      "dend3_1212222212(0.0) , 205.14691517379538\n",
      "dend3_1212222212(0.07142857142857142) , 208.66371115354517\n",
      "dend3_1212222212(0.21428571428571427) , 215.69730311304474\n",
      "dend3_1212222212(0.35714285714285715) , 222.7308950725443\n",
      "dend3_1212222212(0.5) , 229.7644870320439\n",
      "dend3_1212222212(0.6428571428571429) , 236.79807899154346\n",
      "dend3_1212222212(0.7857142857142857) , 243.831670951043\n",
      "dend3_1212222212(0.9285714285714286) , 250.86526291054258\n",
      "dend3_1212222212(1.0) , 254.38205889029237\n",
      "dend3_121222222(0.0) , 168.63115067438582\n",
      "dend3_121222222(0.07142857142857142) , 173.2863508917259\n",
      "dend3_121222222(0.21428571428571427) , 182.5967513264061\n",
      "dend3_121222222(0.35714285714285715) , 191.90715176108623\n",
      "dend3_121222222(0.5) , 201.21755219576642\n",
      "dend3_121222222(0.6428571428571429) , 210.52795263044658\n",
      "dend3_121222222(0.7857142857142857) , 219.83835306512674\n",
      "dend3_121222222(0.9285714285714286) , 229.14875349980693\n",
      "dend3_121222222(1.0) , 233.803953717147\n",
      "dend3_1212222221(0.0) , 233.803953717147\n",
      "dend3_1212222221(0.07142857142857142) , 237.11480267602462\n",
      "dend3_1212222221(0.21428571428571427) , 243.73650059377985\n",
      "dend3_1212222221(0.35714285714285715) , 250.3581985115351\n",
      "dend3_1212222221(0.5) , 256.9798964292903\n",
      "dend3_1212222221(0.6428571428571429) , 263.60159434704553\n",
      "dend3_1212222221(0.7857142857142857) , 270.22329226480076\n",
      "dend3_1212222221(0.9285714285714286) , 276.844990182556\n",
      "dend3_1212222221(1.0) , 280.1558391414336\n",
      "dend3_1212222222(0.0) , 233.803953717147\n",
      "dend3_1212222222(0.07142857142857142) , 238.75958875935626\n",
      "dend3_1212222222(0.21428571428571427) , 248.67085884377482\n",
      "dend3_1212222222(0.35714285714285715) , 258.58212892819336\n",
      "dend3_1212222222(0.5) , 268.49339901261186\n",
      "dend3_1212222222(0.6428571428571429) , 278.40466909703036\n",
      "dend3_1212222222(0.7857142857142857) , 288.3159391814489\n",
      "dend3_1212222222(0.9285714285714286) , 298.22720926586743\n",
      "dend3_1212222222(1.0) , 303.1828443080767\n",
      "dend3_12122222221(0.0) , 303.1828443080767\n",
      "dend3_12122222221(0.07142857142857142) , 303.9156760995009\n",
      "dend3_12122222221(0.21428571428571427) , 305.38133968234933\n",
      "dend3_12122222221(0.35714285714285715) , 306.84700326519777\n",
      "dend3_12122222221(0.5) , 308.3126668480462\n",
      "dend3_12122222221(0.6428571428571429) , 309.7783304308946\n",
      "dend3_12122222221(0.7857142857142857) , 311.243994013743\n",
      "dend3_12122222221(0.9285714285714286) , 312.70965759659146\n",
      "dend3_12122222221(1.0) , 313.44248938801564\n",
      "dend3_12122222222(0.0) , 303.1828443080767\n",
      "dend3_12122222222(0.07142857142857142) , 304.0039139952007\n",
      "dend3_12122222222(0.21428571428571427) , 305.6460533694487\n",
      "dend3_12122222222(0.35714285714285715) , 307.28819274369664\n",
      "dend3_12122222222(0.5) , 308.9303321179446\n",
      "dend3_12122222222(0.6428571428571429) , 310.5724714921926\n",
      "dend3_12122222222(0.7857142857142857) , 312.2146108664406\n",
      "dend3_12122222222(0.9285714285714286) , 313.85675024068854\n",
      "dend3_12122222222(1.0) , 314.67781992781255\n",
      "dend3_122(0.0) , 28.881377255071264\n",
      "dend3_122(0.07142857142857142) , 29.733617929260532\n",
      "dend3_122(0.21428571428571427) , 31.438099277639072\n",
      "dend3_122(0.35714285714285715) , 33.14258062601761\n",
      "dend3_122(0.5) , 34.847061974396155\n",
      "dend3_122(0.6428571428571429) , 36.55154332277469\n",
      "dend3_122(0.7857142857142857) , 38.25602467115323\n",
      "dend3_122(0.9285714285714286) , 39.96050601953177\n",
      "dend3_122(1.0) , 40.81274669372104\n",
      "dend3_1221(0.0) , 40.81274669372104\n",
      "dend3_1221(0.07142857142857142) , 42.866931627193345\n",
      "dend3_1221(0.21428571428571427) , 46.97530149413795\n",
      "dend3_1221(0.35714285714285715) , 51.08367136108256\n",
      "dend3_1221(0.5) , 55.19204122802716\n",
      "dend3_1221(0.6428571428571429) , 59.30041109497177\n",
      "dend3_1221(0.7857142857142857) , 63.40878096191637\n",
      "dend3_1221(0.9285714285714286) , 67.51715082886099\n",
      "dend3_1221(1.0) , 69.57133576233329\n",
      "dend3_12211(0.0) , 69.57133576233329\n",
      "dend3_12211(0.07142857142857142) , 73.65832228090493\n",
      "dend3_12211(0.21428571428571427) , 81.83229531804818\n",
      "dend3_12211(0.35714285714285715) , 90.00626835519145\n",
      "dend3_12211(0.5) , 98.18024139233472\n",
      "dend3_12211(0.6428571428571429) , 106.35421442947799\n",
      "dend3_12211(0.7857142857142857) , 114.52818746662125\n",
      "dend3_12211(0.9285714285714286) , 122.70216050376452\n",
      "dend3_12211(1.0) , 126.78914702233614\n",
      "dend3_12212(0.0) , 69.57133576233329\n",
      "dend3_12212(0.07142857142857142) , 74.39546610128613\n",
      "dend3_12212(0.21428571428571427) , 84.04372677919181\n",
      "dend3_12212(0.35714285714285715) , 93.6919874570975\n",
      "dend3_12212(0.5) , 103.34024813500318\n",
      "dend3_12212(0.6428571428571429) , 112.98850881290886\n",
      "dend3_12212(0.7857142857142857) , 122.63676949081454\n",
      "dend3_12212(0.9285714285714286) , 132.28503016872023\n",
      "dend3_12212(1.0) , 137.10916050767307\n",
      "dend3_1222(0.0) , 40.81274669372104\n",
      "dend3_1222(0.07142857142857142) , 49.998144265047486\n",
      "dend3_1222(0.21428571428571427) , 68.3689394077004\n",
      "dend3_1222(0.35714285714285715) , 86.73973455035329\n",
      "dend3_1222(0.5) , 105.11052969300619\n",
      "dend3_1222(0.6428571428571429) , 123.48132483565908\n",
      "dend3_1222(0.7857142857142857) , 141.85211997831198\n",
      "dend3_1222(0.9285714285714286) , 160.22291512096487\n",
      "dend3_1222(1.0) , 169.4083126922913\n",
      "dend4_1(0.0) , 9.266039848327637\n",
      "dend4_1(0.07142857142857142) , 10.203305141211503\n",
      "dend4_1(0.21428571428571427) , 12.077835726979234\n",
      "dend4_1(0.35714285714285715) , 13.952366312746967\n",
      "dend4_1(0.5) , 15.8268968985147\n",
      "dend4_1(0.6428571428571429) , 17.701427484282434\n",
      "dend4_1(0.7857142857142857) , 19.575958070050163\n",
      "dend4_1(0.9285714285714286) , 21.450488655817896\n",
      "dend4_1(1.0) , 22.387753948701764\n",
      "dend4_11(0.0) , 22.387753948701764\n",
      "dend4_11(0.07142857142857142) , 22.678541727002376\n",
      "dend4_11(0.21428571428571427) , 23.260117283603606\n",
      "dend4_11(0.35714285714285715) , 23.841692840204836\n",
      "dend4_11(0.5) , 24.423268396806066\n",
      "dend4_11(0.6428571428571429) , 25.004843953407295\n",
      "dend4_11(0.7857142857142857) , 25.586419510008525\n",
      "dend4_11(0.9285714285714286) , 26.167995066609755\n",
      "dend4_11(1.0) , 26.45878284491037\n",
      "dend4_111(0.0) , 26.45878284491037\n",
      "dend4_111(0.07142857142857142) , 27.500254535940087\n",
      "dend4_111(0.21428571428571427) , 29.583197917999524\n",
      "dend4_111(0.35714285714285715) , 31.66614130005896\n",
      "dend4_111(0.5) , 33.749084682118394\n",
      "dend4_111(0.6428571428571429) , 35.832028064177834\n",
      "dend4_111(0.7857142857142857) , 37.91497144623727\n",
      "dend4_111(0.9285714285714286) , 39.9979148282967\n",
      "dend4_111(1.0) , 41.03938651932642\n",
      "dend4_1111(0.0) , 41.03938651932642\n",
      "dend4_1111(0.07142857142857142) , 47.487060608702826\n",
      "dend4_1111(0.21428571428571427) , 60.382408787455645\n",
      "dend4_1111(0.35714285714285715) , 73.27775696620846\n",
      "dend4_1111(0.5) , 86.17310514496127\n",
      "dend4_1111(0.6428571428571429) , 99.06845332371408\n",
      "dend4_1111(0.7857142857142857) , 111.96380150246688\n",
      "dend4_1111(0.9285714285714286) , 124.85914968121972\n",
      "dend4_1111(1.0) , 131.3068237705961\n",
      "dend4_1112(0.0) , 41.03938651932642\n",
      "dend4_1112(0.07142857142857142) , 41.483888978054296\n",
      "dend4_1112(0.21428571428571427) , 42.37289389551006\n",
      "dend4_1112(0.35714285714285715) , 43.26189881296582\n",
      "dend4_1112(0.5) , 44.15090373042158\n",
      "dend4_1112(0.6428571428571429) , 45.03990864787734\n",
      "dend4_1112(0.7857142857142857) , 45.928913565333104\n",
      "dend4_1112(0.9285714285714286) , 46.81791848278886\n",
      "dend4_1112(1.0) , 47.262420941516744\n",
      "dend4_11121(0.0) , 47.262420941516744\n",
      "dend4_11121(0.07142857142857142) , 53.8090670988562\n",
      "dend4_11121(0.21428571428571427) , 66.90235941353511\n",
      "dend4_11121(0.35714285714285715) , 79.99565172821401\n",
      "dend4_11121(0.5) , 93.0889440428929\n",
      "dend4_11121(0.6428571428571429) , 106.18223635757184\n",
      "dend4_11121(0.7857142857142857) , 119.27552867225072\n",
      "dend4_11121(0.9285714285714286) , 132.36882098692965\n",
      "dend4_11121(1.0) , 138.9154671442691\n",
      "dend4_11122(0.0) , 47.262420941516744\n",
      "dend4_11122(0.07142857142857142) , 53.1008171754071\n",
      "dend4_11122(0.21428571428571427) , 64.77760964318782\n",
      "dend4_11122(0.35714285714285715) , 76.45440211096853\n",
      "dend4_11122(0.5) , 88.13119457874924\n",
      "dend4_11122(0.6428571428571429) , 99.80798704652996\n",
      "dend4_11122(0.7857142857142857) , 111.48477951431067\n",
      "dend4_11122(0.9285714285714286) , 123.1615719820914\n",
      "dend4_11122(1.0) , 128.99996821598174\n",
      "dend4_112(0.0) , 26.45878284491037\n",
      "dend4_112(0.07142857142857142) , 28.039614869164065\n",
      "dend4_112(0.21428571428571427) , 31.20127891767146\n",
      "dend4_112(0.35714285714285715) , 34.36294296617885\n",
      "dend4_112(0.5) , 37.52460701468624\n",
      "dend4_112(0.6428571428571429) , 40.68627106319363\n",
      "dend4_112(0.7857142857142857) , 43.84793511170102\n",
      "dend4_112(0.9285714285714286) , 47.00959916020841\n",
      "dend4_112(1.0) , 48.590431184462105\n",
      "dend4_1121(0.0) , 48.590431184462105\n",
      "dend4_1121(0.07142857142857142) , 55.46838912253637\n",
      "dend4_1121(0.21428571428571427) , 69.22430499868491\n",
      "dend4_1121(0.35714285714285715) , 82.98022087483346\n",
      "dend4_1121(0.5) , 96.736136750982\n",
      "dend4_1121(0.6428571428571429) , 110.49205262713055\n",
      "dend4_1121(0.7857142857142857) , 124.24796850327908\n",
      "dend4_1121(0.9285714285714286) , 138.00388437942763\n",
      "dend4_1121(1.0) , 144.8818423175019\n",
      "dend4_1122(0.0) , 48.590431184462105\n",
      "dend4_1122(0.07142857142857142) , 56.55072969230573\n",
      "dend4_1122(0.21428571428571427) , 72.47132670799299\n",
      "dend4_1122(0.35714285714285715) , 88.39192372368024\n",
      "dend4_1122(0.5) , 104.31252073936747\n",
      "dend4_1122(0.6428571428571429) , 120.23311775505474\n",
      "dend4_1122(0.7857142857142857) , 136.153714770742\n",
      "dend4_1122(0.9285714285714286) , 152.07431178642926\n",
      "dend4_1122(1.0) , 160.0346102942729\n",
      "dend4_12(0.0) , 22.387753948701764\n",
      "dend4_12(0.07142857142857142) , 23.647041887878704\n",
      "dend4_12(0.21428571428571427) , 26.165617766232586\n",
      "dend4_12(0.35714285714285715) , 28.68419364458647\n",
      "dend4_12(0.5) , 31.20276952294035\n",
      "dend4_12(0.6428571428571429) , 33.72134540129423\n",
      "dend4_12(0.7857142857142857) , 36.239921279648115\n",
      "dend4_12(0.9285714285714286) , 38.758497158001994\n",
      "dend4_12(1.0) , 40.01778509717894\n",
      "dend4_121(0.0) , 40.01778509717894\n",
      "dend4_121(0.07142857142857142) , 49.5330294843467\n",
      "dend4_121(0.21428571428571427) , 68.56351825868222\n",
      "dend4_121(0.35714285714285715) , 87.59400703301775\n",
      "dend4_121(0.5) , 106.62449580735327\n",
      "dend4_121(0.6428571428571429) , 125.65498458168881\n",
      "dend4_121(0.7857142857142857) , 144.68547335602432\n",
      "dend4_121(0.9285714285714286) , 163.71596213035988\n",
      "dend4_121(1.0) , 173.23120651752762\n",
      "dend4_122(0.0) , 40.01778509717894\n",
      "dend4_122(0.07142857142857142) , 40.5394495128392\n",
      "dend4_122(0.21428571428571427) , 41.58277834415971\n",
      "dend4_122(0.35714285714285715) , 42.626107175480236\n",
      "dend4_122(0.5) , 43.66943600680076\n",
      "dend4_122(0.6428571428571429) , 44.71276483812128\n",
      "dend4_122(0.7857142857142857) , 45.7560936694418\n",
      "dend4_122(0.9285714285714286) , 46.79942250076232\n",
      "dend4_122(1.0) , 47.32108691642258\n",
      "dend4_1221(0.0) , 47.32108691642258\n",
      "dend4_1221(0.07142857142857142) , 49.44628012234441\n",
      "dend4_1221(0.21428571428571427) , 53.69666653418806\n",
      "dend4_1221(0.35714285714285715) , 57.947052946031725\n",
      "dend4_1221(0.5) , 62.197439357875375\n",
      "dend4_1221(0.6428571428571429) , 66.44782576971903\n",
      "dend4_1221(0.7857142857142857) , 70.6982121815627\n",
      "dend4_1221(0.9285714285714286) , 74.94859859340635\n",
      "dend4_1221(1.0) , 77.07379179932816\n",
      "dend4_1222(0.0) , 47.32108691642258\n",
      "dend4_1222(0.07142857142857142) , 47.65113156384398\n",
      "dend4_1222(0.21428571428571427) , 48.31122085868678\n",
      "dend4_1222(0.35714285714285715) , 48.97131015352958\n",
      "dend4_1222(0.5) , 49.63139944837237\n",
      "dend4_1222(0.6428571428571429) , 50.29148874321517\n",
      "dend4_1222(0.7857142857142857) , 50.95157803805797\n",
      "dend4_1222(0.9285714285714286) , 51.611667332900765\n",
      "dend4_1222(1.0) , 51.94171198032217\n",
      "dend4_12221(0.0) , 51.94171198032217\n",
      "dend4_12221(0.07142857142857142) , 57.76857214840894\n",
      "dend4_12221(0.21428571428571427) , 69.42229248458247\n",
      "dend4_12221(0.35714285714285715) , 81.07601282075602\n",
      "dend4_12221(0.5) , 92.72973315692956\n",
      "dend4_12221(0.6428571428571429) , 104.3834534931031\n",
      "dend4_12221(0.7857142857142857) , 116.03717382927664\n",
      "dend4_12221(0.9285714285714286) , 127.69089416545019\n",
      "dend4_12221(1.0) , 133.51775433353697\n",
      "dend4_12222(0.0) , 51.94171198032217\n",
      "dend4_12222(0.07142857142857142) , 57.997008637358114\n",
      "dend4_12222(0.21428571428571427) , 70.10760195143001\n",
      "dend4_12222(0.35714285714285715) , 82.21819526550192\n",
      "dend4_12222(0.5) , 94.32878857957381\n",
      "dend4_12222(0.6428571428571429) , 106.43938189364572\n",
      "dend4_12222(0.7857142857142857) , 118.54997520771761\n",
      "dend4_12222(0.9285714285714286) , 130.66056852178951\n",
      "dend4_12222(1.0) , 136.71586517882548\n",
      "soma(0.0) , 0.0\n",
      "soma(0.07142857142857142) , 0.6618599891662598\n",
      "soma(0.21428571428571427) , 1.9855799674987793\n",
      "soma(0.35714285714285715) , 3.309299945831299\n",
      "soma(0.5) , 4.633019924163818\n",
      "soma(0.6428571428571429) , 5.956739902496338\n",
      "soma(0.7857142857142857) , 7.280459880828857\n",
      "soma(0.9285714285714286) , 8.604179859161377\n",
      "soma(1.0) , 9.266039848327637\n",
      "axon(0.0) , 9.266039848327637\n",
      "axon(0.07142857142857142) , 24.266039848327637\n",
      "axon(0.21428571428571427) , 54.26603984832764\n",
      "axon(0.35714285714285715) , 84.26603984832764\n",
      "axon(0.5) , 114.26603984832764\n",
      "axon(0.6428571428571429) , 144.26603984832764\n",
      "axon(0.7857142857142857) , 174.26603984832764\n",
      "axon(0.9285714285714286) , 204.26603984832764\n",
      "axon(1.0) , 219.26603984832764\n"
     ]
    }
   ],
   "source": [
    "print('segment , distance')\n",
    "for sec in h.allsec():\n",
    "    for seg in sec.allseg():\n",
    "        segname = '{}({})'.format(sec.name(), seg.x)\n",
    "        h.distance(sec=cell.soma) # set origin first at the soma\n",
    "        print(segname, ',', h.distance(seg)) #print segment and distance from the soma"
   ]
  },
  {
   "cell_type": "markdown",
   "metadata": {
    "slideshow": {
     "slide_type": "slide"
    }
   },
   "source": [
    "`PointProcess.loc(segment)` moves the point process to a given segment."
   ]
  },
  {
   "cell_type": "code",
   "execution_count": 31,
   "metadata": {},
   "outputs": [
    {
     "data": {
      "text/plain": [
       "0.07142857142857142"
      ]
     },
     "execution_count": 31,
     "metadata": {},
     "output_type": "execute_result"
    }
   ],
   "source": [
    "h.IClamp[0].loc(h.dend1_111(0.07142857142857142))"
   ]
  },
  {
   "cell_type": "markdown",
   "metadata": {
    "slideshow": {
     "slide_type": "slide"
    }
   },
   "source": [
    "### 3. Example: How to find a segment in `cell` by a name and move our electrode to it."
   ]
  },
  {
   "cell_type": "code",
   "execution_count": 32,
   "metadata": {},
   "outputs": [
    {
     "data": {
      "text/plain": [
       "dend2_12222"
      ]
     },
     "execution_count": 32,
     "metadata": {},
     "output_type": "execute_result"
    }
   ],
   "source": [
    "sec_to_find = [sec for sec in cell.dends if sec.name()=='dend2_12222']\n",
    "sec_to_find = sec_to_find[0]\n",
    "sec_to_find"
   ]
  },
  {
   "cell_type": "code",
   "execution_count": 33,
   "metadata": {
    "slideshow": {
     "slide_type": "slide"
    }
   },
   "outputs": [
    {
     "data": {
      "text/plain": [
       "[dend2_12222(0),\n",
       " dend2_12222(0.0714286),\n",
       " dend2_12222(0.214286),\n",
       " dend2_12222(0.357143),\n",
       " dend2_12222(0.5),\n",
       " dend2_12222(0.642857),\n",
       " dend2_12222(0.785714),\n",
       " dend2_12222(0.928571),\n",
       " dend2_12222(1)]"
      ]
     },
     "execution_count": 33,
     "metadata": {},
     "output_type": "execute_result"
    }
   ],
   "source": [
    "segs = [seg for seg in sec_to_find.allseg()]\n",
    "segs"
   ]
  },
  {
   "cell_type": "markdown",
   "metadata": {
    "slideshow": {
     "slide_type": "slide"
    }
   },
   "source": [
    "Then, we move our `IClamp` to the second segment,"
   ]
  },
  {
   "cell_type": "code",
   "execution_count": 40,
   "metadata": {},
   "outputs": [
    {
     "data": {
      "text/plain": [
       "0.9285714285714286"
      ]
     },
     "execution_count": 40,
     "metadata": {},
     "output_type": "execute_result"
    }
   ],
   "source": [
    "h.IClamp[0].loc(segs[7])"
   ]
  },
  {
   "cell_type": "markdown",
   "metadata": {
    "slideshow": {
     "slide_type": "slide"
    }
   },
   "source": [
    "Or, we can move it to a middle segment of the section,"
   ]
  },
  {
   "cell_type": "code",
   "execution_count": 39,
   "metadata": {},
   "outputs": [
    {
     "data": {
      "text/plain": [
       "0.5"
      ]
     },
     "execution_count": 39,
     "metadata": {},
     "output_type": "execute_result"
    }
   ],
   "source": [
    "h.IClamp[0].loc(sec_to_find(0.5))"
   ]
  },
  {
   "cell_type": "markdown",
   "metadata": {
    "slideshow": {
     "slide_type": "slide"
    }
   },
   "source": [
    "### 4. How to access variables in sections\n",
    "\n",
    "You can access a variable defined in a section by (section).(variable name). Also, you can change its value by assignment. It is also possible to access/change a variable only for a segment, if a relative coordinate `x` for the segment is known, by (section)(x).(variable name).\n",
    "\n",
    "In the following example, we go through all the sections in the model and print the name, `g_pas` (conductance parameter of the passive mechanism), and `nseg`. "
   ]
  },
  {
   "cell_type": "code",
   "execution_count": null,
   "metadata": {
    "slideshow": {
     "slide_type": "slide"
    }
   },
   "outputs": [],
   "source": [
    "for sec in h.allsec():\n",
    "    print(sec.name(), sec.g_pas, sec.nseg)"
   ]
  },
  {
   "cell_type": "code",
   "execution_count": null,
   "metadata": {
    "slideshow": {
     "slide_type": "slide"
    }
   },
   "outputs": [],
   "source": [
    "for sec in h.allsec():\n",
    "    for seg in sec.allseg():\n",
    "        h.distance(sec=cell.soma)\n",
    "        print(sec.name(), h.distance(seg), seg.v)"
   ]
  },
  {
   "cell_type": "code",
   "execution_count": null,
   "metadata": {
    "slideshow": {
     "slide_type": "slide"
    }
   },
   "outputs": [],
   "source": [
    "h.psection()"
   ]
  },
  {
   "cell_type": "markdown",
   "metadata": {
    "slideshow": {
     "slide_type": "slide"
    }
   },
   "source": [
    "Now let's change `g_pas`, the passive conductance, and check the result."
   ]
  },
  {
   "cell_type": "code",
   "execution_count": null,
   "metadata": {},
   "outputs": [],
   "source": [
    "cell.soma.g_pas = 0.0001\n",
    "h.psection()"
   ]
  },
  {
   "cell_type": "code",
   "execution_count": null,
   "metadata": {},
   "outputs": [],
   "source": []
  }
 ],
 "metadata": {
  "@webio": {
   "lastCommId": null,
   "lastKernelId": null
  },
  "celltoolbar": "Slideshow",
  "kernelspec": {
   "display_name": "compneuro",
   "language": "python",
   "name": "python3"
  },
  "language_info": {
   "codemirror_mode": {
    "name": "ipython",
    "version": 3
   },
   "file_extension": ".py",
   "mimetype": "text/x-python",
   "name": "python",
   "nbconvert_exporter": "python",
   "pygments_lexer": "ipython3",
   "version": "3.11.0"
  },
  "vscode": {
   "interpreter": {
    "hash": "73b7ab9ce480fb4bb910882d4fa028b2c90dec1f0b79b3111b46b20e656f3c36"
   }
  }
 },
 "nbformat": 4,
 "nbformat_minor": 4
}
